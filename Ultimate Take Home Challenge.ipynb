{
 "cells": [
  {
   "cell_type": "code",
   "execution_count": 1,
   "metadata": {},
   "outputs": [],
   "source": [
    "# Import the necessary libraries for reading and working with the data\n",
    "import json\n",
    "import numpy as np\n",
    "import pandas as pd\n",
    "\n",
    "# Import matplotlib and seaborn\n",
    "import matplotlib.pyplot as plt\n",
    "import seaborn as sns\n",
    "\n",
    "# Import datetime\n",
    "import datetime"
   ]
  },
  {
   "cell_type": "code",
   "execution_count": 2,
   "metadata": {},
   "outputs": [],
   "source": [
    "# Import the login files\n",
    "login_df = pd.read_json('logins.json')\n",
    "\n",
    "# # Import the ultimate_data_challenge files\n",
    "# challenge_df = pd.read_json('ultimate_data_challenge.json', orient='records')"
   ]
  },
  {
   "cell_type": "markdown",
   "metadata": {},
   "source": [
    "It appears as if there is an error with loading in the data. I'll take a different approach. First I'll load the json file into the notebook. Then I'll convert that to a dataframe. Let's see how that goes."
   ]
  },
  {
   "cell_type": "code",
   "execution_count": 3,
   "metadata": {},
   "outputs": [
    {
     "data": {
      "text/plain": [
       "(93142, 1)"
      ]
     },
     "execution_count": 3,
     "metadata": {},
     "output_type": "execute_result"
    }
   ],
   "source": [
    "login_df.shape"
   ]
  },
  {
   "cell_type": "code",
   "execution_count": 4,
   "metadata": {},
   "outputs": [],
   "source": [
    "# Open a connection to the json file for reading\n",
    "challenge_file = open('ultimate_data_challenge.json', mode='r')\n",
    "\n",
    "# Read the json file\n",
    "challenge_json = challenge_file.read()\n",
    "\n",
    "# Close the connection\n",
    "challenge_file.close()\n",
    "\n",
    "# # Decode the json file\n",
    "challenge_data = json.loads(challenge_json)\n",
    "\n",
    "# # Convert the decoded json file to a dataframe\n",
    "challenge_df = pd.DataFrame(challenge_data)"
   ]
  },
  {
   "cell_type": "code",
   "execution_count": 5,
   "metadata": {},
   "outputs": [
    {
     "data": {
      "text/plain": [
       "(50000, 12)"
      ]
     },
     "execution_count": 5,
     "metadata": {},
     "output_type": "execute_result"
    }
   ],
   "source": [
    "challenge_df.shape"
   ]
  },
  {
   "cell_type": "markdown",
   "metadata": {},
   "source": [
    "### Part 1 ‑ Exploratory data analysis\n",
    "\n",
    "The attached logins.json file contains (simulated) timestamps of user logins in a particular\n",
    "geographic location. Aggregate these login counts based on 15minute\n",
    "time intervals, and\n",
    "visualize and describe the resulting time series of login counts in ways that best characterize the\n",
    "underlying patterns of the demand. Please report/illustrate important features of the demand,\n",
    "such as daily cycles. If there are data quality issues, please report them."
   ]
  },
  {
   "cell_type": "code",
   "execution_count": 6,
   "metadata": {
    "scrolled": true
   },
   "outputs": [
    {
     "data": {
      "text/html": [
       "<div>\n",
       "<style scoped>\n",
       "    .dataframe tbody tr th:only-of-type {\n",
       "        vertical-align: middle;\n",
       "    }\n",
       "\n",
       "    .dataframe tbody tr th {\n",
       "        vertical-align: top;\n",
       "    }\n",
       "\n",
       "    .dataframe thead th {\n",
       "        text-align: right;\n",
       "    }\n",
       "</style>\n",
       "<table border=\"1\" class=\"dataframe\">\n",
       "  <thead>\n",
       "    <tr style=\"text-align: right;\">\n",
       "      <th></th>\n",
       "      <th>login_time</th>\n",
       "    </tr>\n",
       "  </thead>\n",
       "  <tbody>\n",
       "    <tr>\n",
       "      <th>count</th>\n",
       "      <td>93142</td>\n",
       "    </tr>\n",
       "    <tr>\n",
       "      <th>unique</th>\n",
       "      <td>92265</td>\n",
       "    </tr>\n",
       "    <tr>\n",
       "      <th>top</th>\n",
       "      <td>1970-02-12 11:16:53</td>\n",
       "    </tr>\n",
       "    <tr>\n",
       "      <th>freq</th>\n",
       "      <td>3</td>\n",
       "    </tr>\n",
       "    <tr>\n",
       "      <th>first</th>\n",
       "      <td>1970-01-01 20:12:16</td>\n",
       "    </tr>\n",
       "    <tr>\n",
       "      <th>last</th>\n",
       "      <td>1970-04-13 18:57:38</td>\n",
       "    </tr>\n",
       "  </tbody>\n",
       "</table>\n",
       "</div>"
      ],
      "text/plain": [
       "                 login_time\n",
       "count                 93142\n",
       "unique                92265\n",
       "top     1970-02-12 11:16:53\n",
       "freq                      3\n",
       "first   1970-01-01 20:12:16\n",
       "last    1970-04-13 18:57:38"
      ]
     },
     "execution_count": 6,
     "metadata": {},
     "output_type": "execute_result"
    }
   ],
   "source": [
    "# Take a look at the summary statistics for the logins\n",
    "login_df.describe()"
   ]
  },
  {
   "cell_type": "markdown",
   "metadata": {},
   "source": [
    "It appears that the first and last entries are at 1970-01-01 20:12:16 and 1970-04-13 18:57:18 (YYYY-MM-DD H:m:s). Besides the login_time, there are no additional columns. As a result, I don't believe there are any issues with data quality here (no null values or outliers). \n",
    "\n",
    "Before I resample the dataset to 15minute intervals, I will create an additional column to count the data. Then I will assign the index to the datetime series for resampling"
   ]
  },
  {
   "cell_type": "code",
   "execution_count": 7,
   "metadata": {},
   "outputs": [],
   "source": [
    "# Define an additional column and fill with 1's\n",
    "login_df['counts'] = 1 \n",
    "\n",
    "# Set the login_time column as the index\n",
    "login_df.set_index('login_time', inplace=True)"
   ]
  },
  {
   "cell_type": "code",
   "execution_count": 8,
   "metadata": {},
   "outputs": [],
   "source": [
    "# Resample the data\n",
    "grouped_login = login_df.resample('15T').sum()"
   ]
  },
  {
   "cell_type": "code",
   "execution_count": 9,
   "metadata": {},
   "outputs": [
    {
     "data": {
      "text/html": [
       "<div>\n",
       "<style scoped>\n",
       "    .dataframe tbody tr th:only-of-type {\n",
       "        vertical-align: middle;\n",
       "    }\n",
       "\n",
       "    .dataframe tbody tr th {\n",
       "        vertical-align: top;\n",
       "    }\n",
       "\n",
       "    .dataframe thead th {\n",
       "        text-align: right;\n",
       "    }\n",
       "</style>\n",
       "<table border=\"1\" class=\"dataframe\">\n",
       "  <thead>\n",
       "    <tr style=\"text-align: right;\">\n",
       "      <th></th>\n",
       "      <th>counts</th>\n",
       "    </tr>\n",
       "    <tr>\n",
       "      <th>login_time</th>\n",
       "      <th></th>\n",
       "    </tr>\n",
       "  </thead>\n",
       "  <tbody>\n",
       "    <tr>\n",
       "      <th>1970-01-01 20:00:00</th>\n",
       "      <td>2</td>\n",
       "    </tr>\n",
       "    <tr>\n",
       "      <th>1970-01-01 20:15:00</th>\n",
       "      <td>6</td>\n",
       "    </tr>\n",
       "    <tr>\n",
       "      <th>1970-01-01 20:30:00</th>\n",
       "      <td>9</td>\n",
       "    </tr>\n",
       "    <tr>\n",
       "      <th>1970-01-01 20:45:00</th>\n",
       "      <td>7</td>\n",
       "    </tr>\n",
       "    <tr>\n",
       "      <th>1970-01-01 21:00:00</th>\n",
       "      <td>1</td>\n",
       "    </tr>\n",
       "  </tbody>\n",
       "</table>\n",
       "</div>"
      ],
      "text/plain": [
       "                     counts\n",
       "login_time                 \n",
       "1970-01-01 20:00:00       2\n",
       "1970-01-01 20:15:00       6\n",
       "1970-01-01 20:30:00       9\n",
       "1970-01-01 20:45:00       7\n",
       "1970-01-01 21:00:00       1"
      ]
     },
     "execution_count": 9,
     "metadata": {},
     "output_type": "execute_result"
    }
   ],
   "source": [
    "# Take a look at the head of the resampled logins\n",
    "grouped_login.head()"
   ]
  },
  {
   "cell_type": "code",
   "execution_count": 10,
   "metadata": {},
   "outputs": [
    {
     "data": {
      "text/plain": [
       "(9788, 1)"
      ]
     },
     "execution_count": 10,
     "metadata": {},
     "output_type": "execute_result"
    }
   ],
   "source": [
    "grouped_login.shape"
   ]
  },
  {
   "cell_type": "markdown",
   "metadata": {},
   "source": [
    "Everything looks good so far. Next I'll begin to plot the time-series. Since the resulting resample data has 9788 entries, it would be impractical to plot all the points on a single plot. I'll break this down to smaller segments.\n",
    "\n",
    "1. Monthly\n",
    "2. Weekly data (resample to weekly)\n",
    "3. Barplot of each day\n",
    "4. Hourly"
   ]
  },
  {
   "cell_type": "code",
   "execution_count": 11,
   "metadata": {},
   "outputs": [],
   "source": [
    "# Resample the data to monthly\n",
    "month_login = login_df.resample('1M', label='left').sum()"
   ]
  },
  {
   "cell_type": "code",
   "execution_count": 12,
   "metadata": {
    "scrolled": true
   },
   "outputs": [
    {
     "data": {
      "text/html": [
       "<div>\n",
       "<style scoped>\n",
       "    .dataframe tbody tr th:only-of-type {\n",
       "        vertical-align: middle;\n",
       "    }\n",
       "\n",
       "    .dataframe tbody tr th {\n",
       "        vertical-align: top;\n",
       "    }\n",
       "\n",
       "    .dataframe thead th {\n",
       "        text-align: right;\n",
       "    }\n",
       "</style>\n",
       "<table border=\"1\" class=\"dataframe\">\n",
       "  <thead>\n",
       "    <tr style=\"text-align: right;\">\n",
       "      <th></th>\n",
       "      <th>counts</th>\n",
       "    </tr>\n",
       "    <tr>\n",
       "      <th>login_time</th>\n",
       "      <th></th>\n",
       "    </tr>\n",
       "  </thead>\n",
       "  <tbody>\n",
       "    <tr>\n",
       "      <th>1969-12-31</th>\n",
       "      <td>21239</td>\n",
       "    </tr>\n",
       "    <tr>\n",
       "      <th>1970-01-31</th>\n",
       "      <td>24673</td>\n",
       "    </tr>\n",
       "    <tr>\n",
       "      <th>1970-02-28</th>\n",
       "      <td>33723</td>\n",
       "    </tr>\n",
       "    <tr>\n",
       "      <th>1970-03-31</th>\n",
       "      <td>13507</td>\n",
       "    </tr>\n",
       "  </tbody>\n",
       "</table>\n",
       "</div>"
      ],
      "text/plain": [
       "            counts\n",
       "login_time        \n",
       "1969-12-31   21239\n",
       "1970-01-31   24673\n",
       "1970-02-28   33723\n",
       "1970-03-31   13507"
      ]
     },
     "execution_count": 12,
     "metadata": {},
     "output_type": "execute_result"
    }
   ],
   "source": [
    "# Show the result.\n",
    "month_login"
   ]
  },
  {
   "cell_type": "markdown",
   "metadata": {},
   "source": [
    "Even without visualizations, there is a visible increase in login counts in March. The drop in login counts seen in April is likely due to the last data point being mid-April. Let's explore these months a little."
   ]
  },
  {
   "cell_type": "code",
   "execution_count": 13,
   "metadata": {},
   "outputs": [],
   "source": [
    "# First let's resample the data to daily\n",
    "daily_login = login_df.resample('1D').sum()"
   ]
  },
  {
   "cell_type": "code",
   "execution_count": 14,
   "metadata": {
    "scrolled": true
   },
   "outputs": [
    {
     "data": {
      "text/plain": [
       "[<matplotlib.lines.Line2D at 0x17bf6707400>]"
      ]
     },
     "execution_count": 14,
     "metadata": {},
     "output_type": "execute_result"
    },
    {
     "data": {
      "image/png": "[encoded data removed]",
      "text/plain": [
       "<matplotlib.figure.Figure at 0x17bf5e07d30>"
      ]
     },
     "metadata": {},
     "output_type": "display_data"
    }
   ],
   "source": [
    "# Plot the daily data\n",
    "plt.figure(figsize=(12,5))\n",
    "plt.plot(daily_login)"
   ]
  },
  {
   "cell_type": "markdown",
   "metadata": {},
   "source": [
    "Considering that there are only 3.5 months of data and there are 15 peaks, there are some sort of cyclical trend in each month."
   ]
  },
  {
   "cell_type": "code",
   "execution_count": 15,
   "metadata": {},
   "outputs": [],
   "source": [
    "# Define a dataframe for each month\n",
    "\n",
    "# Define the dataframe for Janurary\n",
    "jan_logins = daily_login[daily_login.index.month == 1]\n",
    "\n",
    "# Define the dataframe for February\n",
    "feb_logins = daily_login[daily_login.index.month == 2]\n",
    "\n",
    "# Define the dataframe for March\n",
    "mar_logins = daily_login[daily_login.index.month == 3]\n",
    "\n",
    "# Define the dataframe for April\n",
    "apr_logins = daily_login[daily_login.index.month == 4]\n",
    "\n",
    "month_list = [jan_logins, feb_logins, mar_logins, apr_logins]"
   ]
  },
  {
   "cell_type": "code",
   "execution_count": 16,
   "metadata": {},
   "outputs": [
    {
     "data": {
      "image/png": "[encoded data removed]",
      "text/plain": [
       "<matplotlib.figure.Figure at 0x17bf5e6e208>"
      ]
     },
     "metadata": {},
     "output_type": "display_data"
    }
   ],
   "source": [
    "# Plot the data for each month\n",
    "\n",
    "MONTHS = ['JAN', 'FEB', 'MAR', 'APR']\n",
    "\n",
    "fig, ax = plt.subplots(nrows=4, figsize=(12, 8))\n",
    "\n",
    "for index in range(len(month_list)):\n",
    "    ax[index].plot(month_list[index])\n",
    "    ax[index].set_title(MONTHS[index])\n",
    "    \n",
    "plt.tight_layout()"
   ]
  },
  {
   "cell_type": "markdown",
   "metadata": {},
   "source": [
    "### Notable Observations:\n",
    "\n",
    "1. Each month (excluding Apr.) has a least 3 peaks\n",
    "2. The total count of logins each month is progressively increasing\n",
    "3. The peaks appear to occur around the same time each month, but there is no specific date that it occurs.\n",
    "4. Upon closer inspection, it appears as if each peak occurs (rises and drops) within the week.\n",
    "\n",
    "I will confirm the 4th observation by resampling the data to weekly. If the peaks are constrained within each week, the weeks should have relatively equal login counts."
   ]
  },
  {
   "cell_type": "code",
   "execution_count": 17,
   "metadata": {},
   "outputs": [],
   "source": [
    "# Resample the data to weekly\n",
    "weekly_login = login_df.resample('W').sum()"
   ]
  },
  {
   "cell_type": "code",
   "execution_count": 18,
   "metadata": {},
   "outputs": [
    {
     "data": {
      "text/html": [
       "<div>\n",
       "<style scoped>\n",
       "    .dataframe tbody tr th:only-of-type {\n",
       "        vertical-align: middle;\n",
       "    }\n",
       "\n",
       "    .dataframe tbody tr th {\n",
       "        vertical-align: top;\n",
       "    }\n",
       "\n",
       "    .dataframe thead th {\n",
       "        text-align: right;\n",
       "    }\n",
       "</style>\n",
       "<table border=\"1\" class=\"dataframe\">\n",
       "  <thead>\n",
       "    <tr style=\"text-align: right;\">\n",
       "      <th></th>\n",
       "      <th>counts</th>\n",
       "    </tr>\n",
       "    <tr>\n",
       "      <th>login_time</th>\n",
       "      <th></th>\n",
       "    </tr>\n",
       "  </thead>\n",
       "  <tbody>\n",
       "    <tr>\n",
       "      <th>1970-01-04</th>\n",
       "      <td>2374</td>\n",
       "    </tr>\n",
       "    <tr>\n",
       "      <th>1970-01-11</th>\n",
       "      <td>5217</td>\n",
       "    </tr>\n",
       "    <tr>\n",
       "      <th>1970-01-18</th>\n",
       "      <td>5023</td>\n",
       "    </tr>\n",
       "    <tr>\n",
       "      <th>1970-01-25</th>\n",
       "      <td>4751</td>\n",
       "    </tr>\n",
       "    <tr>\n",
       "      <th>1970-02-01</th>\n",
       "      <td>4744</td>\n",
       "    </tr>\n",
       "  </tbody>\n",
       "</table>\n",
       "</div>"
      ],
      "text/plain": [
       "            counts\n",
       "login_time        \n",
       "1970-01-04    2374\n",
       "1970-01-11    5217\n",
       "1970-01-18    5023\n",
       "1970-01-25    4751\n",
       "1970-02-01    4744"
      ]
     },
     "execution_count": 18,
     "metadata": {},
     "output_type": "execute_result"
    }
   ],
   "source": [
    "# Verify that the resampling occured properly\n",
    "weekly_login.head()"
   ]
  },
  {
   "cell_type": "code",
   "execution_count": 19,
   "metadata": {},
   "outputs": [
    {
     "data": {
      "text/plain": [
       "[<matplotlib.lines.Line2D at 0x17bf61f0208>]"
      ]
     },
     "execution_count": 19,
     "metadata": {},
     "output_type": "execute_result"
    },
    {
     "data": {
      "image/png": "[encoded data removed]",
      "text/plain": [
       "<matplotlib.figure.Figure at 0x17bf5fe5f98>"
      ]
     },
     "metadata": {},
     "output_type": "display_data"
    }
   ],
   "source": [
    "# Let's plot the weekly data.\n",
    "plt.figure(figsize=(12, 5))\n",
    "plt.plot(weekly_login)"
   ]
  },
  {
   "cell_type": "markdown",
   "metadata": {},
   "source": [
    "### Noteable Observations:\n",
    "\n",
    "1. There isn't any real peaking until mid-late March.\n",
    "2. The logins are progressively increasing each week.\n",
    "\n",
    "Unfortunately, I can't confirm if the peak occurs within each week with this visualization. To address that, I'll create a barplot of each day of the week."
   ]
  },
  {
   "cell_type": "code",
   "execution_count": 20,
   "metadata": {},
   "outputs": [],
   "source": [
    "# Work with the daily data and extract day of the week\n",
    "week_of_day = daily_login.reset_index().copy()"
   ]
  },
  {
   "cell_type": "code",
   "execution_count": 21,
   "metadata": {},
   "outputs": [
    {
     "data": {
      "text/html": [
       "<div>\n",
       "<style scoped>\n",
       "    .dataframe tbody tr th:only-of-type {\n",
       "        vertical-align: middle;\n",
       "    }\n",
       "\n",
       "    .dataframe tbody tr th {\n",
       "        vertical-align: top;\n",
       "    }\n",
       "\n",
       "    .dataframe thead th {\n",
       "        text-align: right;\n",
       "    }\n",
       "</style>\n",
       "<table border=\"1\" class=\"dataframe\">\n",
       "  <thead>\n",
       "    <tr style=\"text-align: right;\">\n",
       "      <th></th>\n",
       "      <th>login_time</th>\n",
       "      <th>counts</th>\n",
       "      <th>day</th>\n",
       "    </tr>\n",
       "  </thead>\n",
       "  <tbody>\n",
       "    <tr>\n",
       "      <th>0</th>\n",
       "      <td>1970-01-01</td>\n",
       "      <td>112</td>\n",
       "      <td>3</td>\n",
       "    </tr>\n",
       "    <tr>\n",
       "      <th>1</th>\n",
       "      <td>1970-01-02</td>\n",
       "      <td>681</td>\n",
       "      <td>4</td>\n",
       "    </tr>\n",
       "    <tr>\n",
       "      <th>2</th>\n",
       "      <td>1970-01-03</td>\n",
       "      <td>793</td>\n",
       "      <td>5</td>\n",
       "    </tr>\n",
       "    <tr>\n",
       "      <th>3</th>\n",
       "      <td>1970-01-04</td>\n",
       "      <td>788</td>\n",
       "      <td>6</td>\n",
       "    </tr>\n",
       "    <tr>\n",
       "      <th>4</th>\n",
       "      <td>1970-01-05</td>\n",
       "      <td>459</td>\n",
       "      <td>0</td>\n",
       "    </tr>\n",
       "    <tr>\n",
       "      <th>5</th>\n",
       "      <td>1970-01-06</td>\n",
       "      <td>536</td>\n",
       "      <td>1</td>\n",
       "    </tr>\n",
       "    <tr>\n",
       "      <th>6</th>\n",
       "      <td>1970-01-07</td>\n",
       "      <td>648</td>\n",
       "      <td>2</td>\n",
       "    </tr>\n",
       "  </tbody>\n",
       "</table>\n",
       "</div>"
      ],
      "text/plain": [
       "  login_time  counts  day\n",
       "0 1970-01-01     112    3\n",
       "1 1970-01-02     681    4\n",
       "2 1970-01-03     793    5\n",
       "3 1970-01-04     788    6\n",
       "4 1970-01-05     459    0\n",
       "5 1970-01-06     536    1\n",
       "6 1970-01-07     648    2"
      ]
     },
     "execution_count": 21,
     "metadata": {},
     "output_type": "execute_result"
    }
   ],
   "source": [
    "# Define a column to hold the day of the week\n",
    "week_of_day['day'] = week_of_day['login_time'].dt.dayofweek\n",
    "\n",
    "# Display a week's worth of data\n",
    "week_of_day.head(7)"
   ]
  },
  {
   "cell_type": "code",
   "execution_count": 22,
   "metadata": {},
   "outputs": [
    {
     "data": {
      "text/plain": [
       "<matplotlib.axes._subplots.AxesSubplot at 0x17bf5e74358>"
      ]
     },
     "execution_count": 22,
     "metadata": {},
     "output_type": "execute_result"
    },
    {
     "data": {
      "image/png": "[encoded data removed]",
      "text/plain": [
       "<matplotlib.figure.Figure at 0x17bf6011438>"
      ]
     },
     "metadata": {},
     "output_type": "display_data"
    }
   ],
   "source": [
    "# Groupby the day of the week\n",
    "grouped_week = week_of_day.groupby('day').sum()\n",
    "\n",
    "# # Plot the data on a barplot\n",
    "# plt.figure(figsize=(10, 5))\n",
    "sns.barplot(x = grouped_week.index, y=grouped_week['counts'], color='b')"
   ]
  },
  {
   "cell_type": "markdown",
   "metadata": {},
   "source": [
    "Given that Monday = 0 and Sunday = 6, it appears as if the logins peak from Friday to Sunday. This makes intuitive sense as weekdays are workdays and usually have less online traffic.\n",
    "\n",
    "An hourly analysis may help confirm the weekday/workday assumption."
   ]
  },
  {
   "cell_type": "code",
   "execution_count": 23,
   "metadata": {},
   "outputs": [
    {
     "data": {
      "text/html": [
       "<div>\n",
       "<style scoped>\n",
       "    .dataframe tbody tr th:only-of-type {\n",
       "        vertical-align: middle;\n",
       "    }\n",
       "\n",
       "    .dataframe tbody tr th {\n",
       "        vertical-align: top;\n",
       "    }\n",
       "\n",
       "    .dataframe thead th {\n",
       "        text-align: right;\n",
       "    }\n",
       "</style>\n",
       "<table border=\"1\" class=\"dataframe\">\n",
       "  <thead>\n",
       "    <tr style=\"text-align: right;\">\n",
       "      <th></th>\n",
       "      <th>login_time</th>\n",
       "      <th>counts</th>\n",
       "    </tr>\n",
       "  </thead>\n",
       "  <tbody>\n",
       "    <tr>\n",
       "      <th>0</th>\n",
       "      <td>1970-01-01 20:00:00</td>\n",
       "      <td>24</td>\n",
       "    </tr>\n",
       "    <tr>\n",
       "      <th>1</th>\n",
       "      <td>1970-01-01 21:00:00</td>\n",
       "      <td>9</td>\n",
       "    </tr>\n",
       "    <tr>\n",
       "      <th>2</th>\n",
       "      <td>1970-01-01 22:00:00</td>\n",
       "      <td>21</td>\n",
       "    </tr>\n",
       "    <tr>\n",
       "      <th>3</th>\n",
       "      <td>1970-01-01 23:00:00</td>\n",
       "      <td>58</td>\n",
       "    </tr>\n",
       "    <tr>\n",
       "      <th>4</th>\n",
       "      <td>1970-01-02 00:00:00</td>\n",
       "      <td>53</td>\n",
       "    </tr>\n",
       "    <tr>\n",
       "      <th>5</th>\n",
       "      <td>1970-01-02 01:00:00</td>\n",
       "      <td>33</td>\n",
       "    </tr>\n",
       "    <tr>\n",
       "      <th>6</th>\n",
       "      <td>1970-01-02 02:00:00</td>\n",
       "      <td>43</td>\n",
       "    </tr>\n",
       "    <tr>\n",
       "      <th>7</th>\n",
       "      <td>1970-01-02 03:00:00</td>\n",
       "      <td>28</td>\n",
       "    </tr>\n",
       "    <tr>\n",
       "      <th>8</th>\n",
       "      <td>1970-01-02 04:00:00</td>\n",
       "      <td>9</td>\n",
       "    </tr>\n",
       "    <tr>\n",
       "      <th>9</th>\n",
       "      <td>1970-01-02 05:00:00</td>\n",
       "      <td>11</td>\n",
       "    </tr>\n",
       "    <tr>\n",
       "      <th>10</th>\n",
       "      <td>1970-01-02 06:00:00</td>\n",
       "      <td>7</td>\n",
       "    </tr>\n",
       "    <tr>\n",
       "      <th>11</th>\n",
       "      <td>1970-01-02 07:00:00</td>\n",
       "      <td>6</td>\n",
       "    </tr>\n",
       "    <tr>\n",
       "      <th>12</th>\n",
       "      <td>1970-01-02 08:00:00</td>\n",
       "      <td>8</td>\n",
       "    </tr>\n",
       "    <tr>\n",
       "      <th>13</th>\n",
       "      <td>1970-01-02 09:00:00</td>\n",
       "      <td>12</td>\n",
       "    </tr>\n",
       "    <tr>\n",
       "      <th>14</th>\n",
       "      <td>1970-01-02 10:00:00</td>\n",
       "      <td>28</td>\n",
       "    </tr>\n",
       "    <tr>\n",
       "      <th>15</th>\n",
       "      <td>1970-01-02 11:00:00</td>\n",
       "      <td>53</td>\n",
       "    </tr>\n",
       "    <tr>\n",
       "      <th>16</th>\n",
       "      <td>1970-01-02 12:00:00</td>\n",
       "      <td>54</td>\n",
       "    </tr>\n",
       "    <tr>\n",
       "      <th>17</th>\n",
       "      <td>1970-01-02 13:00:00</td>\n",
       "      <td>20</td>\n",
       "    </tr>\n",
       "    <tr>\n",
       "      <th>18</th>\n",
       "      <td>1970-01-02 14:00:00</td>\n",
       "      <td>25</td>\n",
       "    </tr>\n",
       "    <tr>\n",
       "      <th>19</th>\n",
       "      <td>1970-01-02 15:00:00</td>\n",
       "      <td>16</td>\n",
       "    </tr>\n",
       "    <tr>\n",
       "      <th>20</th>\n",
       "      <td>1970-01-02 16:00:00</td>\n",
       "      <td>19</td>\n",
       "    </tr>\n",
       "    <tr>\n",
       "      <th>21</th>\n",
       "      <td>1970-01-02 17:00:00</td>\n",
       "      <td>17</td>\n",
       "    </tr>\n",
       "    <tr>\n",
       "      <th>22</th>\n",
       "      <td>1970-01-02 18:00:00</td>\n",
       "      <td>10</td>\n",
       "    </tr>\n",
       "    <tr>\n",
       "      <th>23</th>\n",
       "      <td>1970-01-02 19:00:00</td>\n",
       "      <td>24</td>\n",
       "    </tr>\n",
       "  </tbody>\n",
       "</table>\n",
       "</div>"
      ],
      "text/plain": [
       "            login_time  counts\n",
       "0  1970-01-01 20:00:00      24\n",
       "1  1970-01-01 21:00:00       9\n",
       "2  1970-01-01 22:00:00      21\n",
       "3  1970-01-01 23:00:00      58\n",
       "4  1970-01-02 00:00:00      53\n",
       "5  1970-01-02 01:00:00      33\n",
       "6  1970-01-02 02:00:00      43\n",
       "7  1970-01-02 03:00:00      28\n",
       "8  1970-01-02 04:00:00       9\n",
       "9  1970-01-02 05:00:00      11\n",
       "10 1970-01-02 06:00:00       7\n",
       "11 1970-01-02 07:00:00       6\n",
       "12 1970-01-02 08:00:00       8\n",
       "13 1970-01-02 09:00:00      12\n",
       "14 1970-01-02 10:00:00      28\n",
       "15 1970-01-02 11:00:00      53\n",
       "16 1970-01-02 12:00:00      54\n",
       "17 1970-01-02 13:00:00      20\n",
       "18 1970-01-02 14:00:00      25\n",
       "19 1970-01-02 15:00:00      16\n",
       "20 1970-01-02 16:00:00      19\n",
       "21 1970-01-02 17:00:00      17\n",
       "22 1970-01-02 18:00:00      10\n",
       "23 1970-01-02 19:00:00      24"
      ]
     },
     "execution_count": 23,
     "metadata": {},
     "output_type": "execute_result"
    }
   ],
   "source": [
    "# Resample the original data to hourly\n",
    "hourly_login = login_df.resample('H').sum().reset_index()\n",
    "\n",
    "# View the first 24 hrs\n",
    "hourly_login.head(24)"
   ]
  },
  {
   "cell_type": "code",
   "execution_count": 24,
   "metadata": {
    "scrolled": false
   },
   "outputs": [],
   "source": [
    "# Define a column to hold the hour the day\n",
    "hourly_login['hour'] = hourly_login['login_time'].dt.hour\n",
    "\n",
    "# Define a column for day of the week\n",
    "hourly_login['day'] = hourly_login['login_time'].dt.dayofweek"
   ]
  },
  {
   "cell_type": "code",
   "execution_count": 25,
   "metadata": {},
   "outputs": [],
   "source": [
    "# Groupby the day and hour for plotting\n",
    "grouped_hourly = hourly_login.groupby(['day', 'hour']).sum().reset_index()"
   ]
  },
  {
   "cell_type": "code",
   "execution_count": 26,
   "metadata": {},
   "outputs": [
    {
     "data": {
      "image/png": "[encoded data removed]",
      "text/plain": [
       "<matplotlib.figure.Figure at 0x17bf60659e8>"
      ]
     },
     "metadata": {},
     "output_type": "display_data"
    }
   ],
   "source": [
    "DAYS_OF_WEEK = ['Mon', 'Tues', 'Wed', 'Thurs', 'Fri', 'Sat', 'Sun']\n",
    "\n",
    "# Define the figure for plotting \n",
    "fig, ax = plt.subplots(nrows=7, figsize=(12, 14))\n",
    "\n",
    "# Iterate over the days of the week\n",
    "for i in range(7):\n",
    "    ax[i].plot(grouped_hourly.loc[grouped_hourly['day'] == i, ['hour', 'counts']].set_index('hour'))\n",
    "    ax[i].set_title(DAYS_OF_WEEK[i])\n",
    "    ax[i].set_xticks(np.arange(24))\n",
    "    \n",
    "plt.tight_layout()\n",
    "\n",
    "# Plot all the days on a single plot\n",
    "\n",
    "# plt.figure(figsize=(12, 10))\n",
    "\n",
    "# for i in range(7):\n",
    "#     plt.plot(grouped_hourly.loc[grouped_hourly['day'] == i, ['hour', 'counts']].set_index('hour'))\n",
    "    \n",
    "# plt.legend(np.arange(7))"
   ]
  },
  {
   "cell_type": "markdown",
   "metadata": {},
   "source": [
    "### Notable Observations\n",
    "\n",
    "1. Monday through Friday have similar trends. There is a surge of activity around lunch time (12PM) and late evening (10PM). Activity is also at its lowest at 7AM. \n",
    "2. For Saturdya and Sunday, they have their own trends with peak activity at 5AM, lowest activity around 9AM, and leveled throughout.\n",
    "3. Monday overall has lower activity whereas Friday - Sunday have highest activity (see y-axis scale). \n",
    "\n",
    "With these plots, it does seem that weekdays/workdays have significant different activties compared to the weekends."
   ]
  },
  {
   "cell_type": "markdown",
   "metadata": {},
   "source": [
    "## Conclusion:\n",
    "\n",
    "1. The login count is showing progressive growth.\n",
    "2. There are weekly trends in login activity, particular with the highs from Friday to Sunday and lows from Monday to Thursday.\n",
    "3. Within the weekday, there is increased activity around noon (12PM) and late evening (10PM). TThe activity carries over to very early morning the next day (2AM). Lowest activity occurs at 7AM.\n",
    "4. On the weekends, there are large amounts of activity starting from the start of the day until 5AM where it peaks and starts to decline. It reaches its lowest at 9AM and levels to around the average for the remaidner of the day."
   ]
  },
  {
   "cell_type": "markdown",
   "metadata": {},
   "source": [
    "### Part 2 ‑ Experiment and metrics design\n",
    "The neighboring cities of Gotham and Metropolis have complementary circadian rhythms: on\n",
    "weekdays, Ultimate Gotham is most active at night, and Ultimate Metropolis is most active\n",
    "during the day. On weekends, there is reasonable activity in both cities.\n",
    "\n",
    "However, a toll bridge, with a two way\n",
    "toll, between the two cities causes driver partners to tend\n",
    "to be exclusive to each city. The Ultimate managers of city operations for the two cities have\n",
    "proposed an experiment to encourage driver partners to be available in both cities, by\n",
    "reimbursing all toll costs.\n",
    "1. What would you choose as the key measure of success of this experiment in\n",
    "encouraging driver partners to serve both cities, and why would you choose this metric?\n",
    "2. Describe a practical experiment you would design to compare the effectiveness of the\n",
    "proposed change in relation to the key measure of success. Please provide details on:\n",
    "a. how you will implement the experiment\n",
    "b. what statistical test(s) you will conduct to verify the significance of the\n",
    "observation\n",
    "c. how you would interpret the results and provide recommendations to the city\n",
    "operations team along with any caveats."
   ]
  },
  {
   "cell_type": "markdown",
   "metadata": {},
   "source": [
    "Personal Notes:\n",
    "1. Driver partners are basically taxi drivers, Uber, Lyft, etc.\n",
    "\n",
    "Purpose: Increase availability of driver partners in both Gotham and Metropolis.\n",
    "\n",
    "Potential Metrics:\n",
    "1. Check for increased toll activity\n",
    "2. Keep track of reimbursed tolls to driver partners\n",
    "3. Look for increased activity outside of normal circadian rhythms on weekdays (Gotham = more activity during the day) and (Metropolis = more activity at night). Method of measurement could be logged user or driver activity (provided by the company).\n",
    "\n",
    "Answer #1:\n",
    "Personally, I would choose to measure the success of my experiment using a feature combining the count of reimbursed tolls to driver partners and the logged driver activity (perhaps driver activity divided by reimbused tolls). I believe this form of metric is best each metric individually cannot accurately portray the effects of the experiment. The count of reimbursed tolls alone fails to take into account drivers that take advantage of the reimbursement and do not contributed as a driver partner. Increased driver activity alone fails to connect its activity to the toll bridge because it is difficult to know if the driver is going across the toll bridge. I would avoid using increased toll activity as this could overlap with background noise where there are sudden increases in toll activity due to outside circumstances. \n",
    "\n",
    "Answer #2:\n",
    "For this experiment, I think it would be best to apply A/B Testing where half of the driver partners (randomly chosen) are offered this \"deal\" (experimental condition) and the other half are not (control condition). With this method, there are multiple means of comparison to observe the success (metric records for drivers before and after \"deal\" in experimental group and metric records of the experimental group relative to control group). Since the experiment is expecting to yield higher activity, it would be best to use a one-sided t-test. Statistical significance would support that the experiment functioned as expected where reimbursing tolls to driver partners increased their availability in both Gotham and Metropolis.\n",
    "\n",
    "Future Recommendations:\n",
    "If further increased activity is desired, I would suggest the city partner up with companies that host the driver partners to not only improve tracking records for drivers, but also to financially promote drivers driving between the cities (offer incentives)."
   ]
  },
  {
   "cell_type": "markdown",
   "metadata": {},
   "source": [
    "### Part 3 ‑ Predictive modeling\n",
    "\n",
    "Ultimate is interested in predicting rider retention. To help explore this question, we have\n",
    "provided a sample dataset of a cohort of users who signed up for an Ultimate account in\n",
    "January 2014. The data was pulled several months later; we consider a user retained if they\n",
    "were “active” (i.e. took a trip) in the preceding 30 days.\n",
    "\n",
    "We would like you to use this data set to help understand what factors are the best predictors\n",
    "for retention, and offer suggestions to operationalize those insights to help Ultimate.\n",
    "\n",
    "The data is in the attached file ultimate_data_challenge.json. See below for a detailed\n",
    "description of the dataset. Please include any code you wrote for the analysis and delete the\n",
    "dataset when you have finished with the challenge.\n",
    "\n",
    "1. Perform any cleaning, exploratory analysis, and/or visualizations to use the provided\n",
    "data for this analysis (a few sentences/plots describing your approach will suffice). What\n",
    "fraction of the observed users were retained?\n",
    "2. Build a predictive model to help Ultimate determine whether or not a user will be active\n",
    "in their 6th month on the system. Discuss why you chose your approach, what\n",
    "alternatives you considered, and any concerns you have. How valid is your model?\n",
    "Include any key indicators of model performance.\n",
    "3. Briefly discuss how Ultimate might leverage the insights gained from the mo"
   ]
  },
  {
   "cell_type": "markdown",
   "metadata": {},
   "source": [
    "Here, I will be working with the challenge dataframe. I will start with cleaning the data before performing any EDA."
   ]
  },
  {
   "cell_type": "code",
   "execution_count": 27,
   "metadata": {},
   "outputs": [],
   "source": [
    "# Import the necessary modules for this exercise\n",
    "\n",
    "# Modules for inferential Statistics\n",
    "# Import stats from scipy\n",
    "from scipy import stats\n",
    "\n",
    "\n",
    "# Modules for building the model\n",
    "# Import the pipeline\n",
    "from sklearn.pipeline import Pipeline, FeatureUnion\n",
    "\n",
    "# Import the preprocessing steps\n",
    "from sklearn.preprocessing import LabelBinarizer, StandardScaler, FunctionTransformer\n",
    "\n",
    "# Import train_test_split\n",
    "from sklearn.model_selection import train_test_split\n",
    "\n",
    "# Import LogisticRegression\n",
    "from sklearn.linear_model import LogisticRegression\n",
    "\n",
    "# Import RandomForestClassifier\n",
    "from sklearn.ensemble import RandomForestClassifier\n",
    "\n",
    "# Import xgb\n",
    "import xgboost as xgb\n",
    "\n",
    "# Import roc_auc_score\n",
    "from sklearn.metrics import roc_auc_score"
   ]
  },
  {
   "cell_type": "code",
   "execution_count": 28,
   "metadata": {
    "scrolled": true
   },
   "outputs": [
    {
     "data": {
      "text/html": [
       "<div>\n",
       "<style scoped>\n",
       "    .dataframe tbody tr th:only-of-type {\n",
       "        vertical-align: middle;\n",
       "    }\n",
       "\n",
       "    .dataframe tbody tr th {\n",
       "        vertical-align: top;\n",
       "    }\n",
       "\n",
       "    .dataframe thead th {\n",
       "        text-align: right;\n",
       "    }\n",
       "</style>\n",
       "<table border=\"1\" class=\"dataframe\">\n",
       "  <thead>\n",
       "    <tr style=\"text-align: right;\">\n",
       "      <th></th>\n",
       "      <th>avg_dist</th>\n",
       "      <th>avg_rating_by_driver</th>\n",
       "      <th>avg_rating_of_driver</th>\n",
       "      <th>avg_surge</th>\n",
       "      <th>surge_pct</th>\n",
       "      <th>trips_in_first_30_days</th>\n",
       "      <th>weekday_pct</th>\n",
       "    </tr>\n",
       "  </thead>\n",
       "  <tbody>\n",
       "    <tr>\n",
       "      <th>count</th>\n",
       "      <td>50000.000000</td>\n",
       "      <td>49799.000000</td>\n",
       "      <td>41878.000000</td>\n",
       "      <td>50000.000000</td>\n",
       "      <td>50000.000000</td>\n",
       "      <td>50000.000000</td>\n",
       "      <td>50000.000000</td>\n",
       "    </tr>\n",
       "    <tr>\n",
       "      <th>mean</th>\n",
       "      <td>5.796827</td>\n",
       "      <td>4.778158</td>\n",
       "      <td>4.601559</td>\n",
       "      <td>1.074764</td>\n",
       "      <td>8.849536</td>\n",
       "      <td>2.278200</td>\n",
       "      <td>60.926084</td>\n",
       "    </tr>\n",
       "    <tr>\n",
       "      <th>std</th>\n",
       "      <td>5.707357</td>\n",
       "      <td>0.446652</td>\n",
       "      <td>0.617338</td>\n",
       "      <td>0.222336</td>\n",
       "      <td>19.958811</td>\n",
       "      <td>3.792684</td>\n",
       "      <td>37.081503</td>\n",
       "    </tr>\n",
       "    <tr>\n",
       "      <th>min</th>\n",
       "      <td>0.000000</td>\n",
       "      <td>1.000000</td>\n",
       "      <td>1.000000</td>\n",
       "      <td>1.000000</td>\n",
       "      <td>0.000000</td>\n",
       "      <td>0.000000</td>\n",
       "      <td>0.000000</td>\n",
       "    </tr>\n",
       "    <tr>\n",
       "      <th>25%</th>\n",
       "      <td>2.420000</td>\n",
       "      <td>4.700000</td>\n",
       "      <td>4.300000</td>\n",
       "      <td>1.000000</td>\n",
       "      <td>0.000000</td>\n",
       "      <td>0.000000</td>\n",
       "      <td>33.300000</td>\n",
       "    </tr>\n",
       "    <tr>\n",
       "      <th>50%</th>\n",
       "      <td>3.880000</td>\n",
       "      <td>5.000000</td>\n",
       "      <td>4.900000</td>\n",
       "      <td>1.000000</td>\n",
       "      <td>0.000000</td>\n",
       "      <td>1.000000</td>\n",
       "      <td>66.700000</td>\n",
       "    </tr>\n",
       "    <tr>\n",
       "      <th>75%</th>\n",
       "      <td>6.940000</td>\n",
       "      <td>5.000000</td>\n",
       "      <td>5.000000</td>\n",
       "      <td>1.050000</td>\n",
       "      <td>8.600000</td>\n",
       "      <td>3.000000</td>\n",
       "      <td>100.000000</td>\n",
       "    </tr>\n",
       "    <tr>\n",
       "      <th>max</th>\n",
       "      <td>160.960000</td>\n",
       "      <td>5.000000</td>\n",
       "      <td>5.000000</td>\n",
       "      <td>8.000000</td>\n",
       "      <td>100.000000</td>\n",
       "      <td>125.000000</td>\n",
       "      <td>100.000000</td>\n",
       "    </tr>\n",
       "  </tbody>\n",
       "</table>\n",
       "</div>"
      ],
      "text/plain": [
       "           avg_dist  avg_rating_by_driver  avg_rating_of_driver     avg_surge  \\\n",
       "count  50000.000000          49799.000000          41878.000000  50000.000000   \n",
       "mean       5.796827              4.778158              4.601559      1.074764   \n",
       "std        5.707357              0.446652              0.617338      0.222336   \n",
       "min        0.000000              1.000000              1.000000      1.000000   \n",
       "25%        2.420000              4.700000              4.300000      1.000000   \n",
       "50%        3.880000              5.000000              4.900000      1.000000   \n",
       "75%        6.940000              5.000000              5.000000      1.050000   \n",
       "max      160.960000              5.000000              5.000000      8.000000   \n",
       "\n",
       "          surge_pct  trips_in_first_30_days   weekday_pct  \n",
       "count  50000.000000            50000.000000  50000.000000  \n",
       "mean       8.849536                2.278200     60.926084  \n",
       "std       19.958811                3.792684     37.081503  \n",
       "min        0.000000                0.000000      0.000000  \n",
       "25%        0.000000                0.000000     33.300000  \n",
       "50%        0.000000                1.000000     66.700000  \n",
       "75%        8.600000                3.000000    100.000000  \n",
       "max      100.000000              125.000000    100.000000  "
      ]
     },
     "execution_count": 28,
     "metadata": {},
     "output_type": "execute_result"
    }
   ],
   "source": [
    "# Print summary statistics for the dataset\n",
    "challenge_df.describe()"
   ]
  },
  {
   "cell_type": "code",
   "execution_count": 29,
   "metadata": {},
   "outputs": [
    {
     "name": "stdout",
     "output_type": "stream",
     "text": [
      "<class 'pandas.core.frame.DataFrame'>\n",
      "RangeIndex: 50000 entries, 0 to 49999\n",
      "Data columns (total 12 columns):\n",
      "avg_dist                  50000 non-null float64\n",
      "avg_rating_by_driver      49799 non-null float64\n",
      "avg_rating_of_driver      41878 non-null float64\n",
      "avg_surge                 50000 non-null float64\n",
      "city                      50000 non-null object\n",
      "last_trip_date            50000 non-null object\n",
      "phone                     49604 non-null object\n",
      "signup_date               50000 non-null object\n",
      "surge_pct                 50000 non-null float64\n",
      "trips_in_first_30_days    50000 non-null int64\n",
      "ultimate_black_user       50000 non-null bool\n",
      "weekday_pct               50000 non-null float64\n",
      "dtypes: bool(1), float64(6), int64(1), object(4)\n",
      "memory usage: 4.2+ MB\n"
     ]
    }
   ],
   "source": [
    "# Print the description of the dataset\n",
    "challenge_df.info()"
   ]
  },
  {
   "cell_type": "markdown",
   "metadata": {},
   "source": [
    "Right off the bat, I can see that there are 3 columns with null values and 3 columns with potential outliers. Since the columns with null values and columns with outliers are different, I will address the null columns first.\n",
    "\n",
    "Additionally, it appears that last_trip_date and signup_date are being read as strings and not datetime objects. I will also be converting these two columns to datetime objects\n",
    "\n",
    "Note that there are no unique IDs for each user. This will become a problem if I perform any groupings."
   ]
  },
  {
   "cell_type": "code",
   "execution_count": 30,
   "metadata": {},
   "outputs": [
    {
     "data": {
      "text/html": [
       "<div>\n",
       "<style scoped>\n",
       "    .dataframe tbody tr th:only-of-type {\n",
       "        vertical-align: middle;\n",
       "    }\n",
       "\n",
       "    .dataframe tbody tr th {\n",
       "        vertical-align: top;\n",
       "    }\n",
       "\n",
       "    .dataframe thead th {\n",
       "        text-align: right;\n",
       "    }\n",
       "</style>\n",
       "<table border=\"1\" class=\"dataframe\">\n",
       "  <thead>\n",
       "    <tr style=\"text-align: right;\">\n",
       "      <th></th>\n",
       "      <th>avg_dist</th>\n",
       "      <th>avg_rating_by_driver</th>\n",
       "      <th>avg_rating_of_driver</th>\n",
       "      <th>avg_surge</th>\n",
       "      <th>city</th>\n",
       "      <th>last_trip_date</th>\n",
       "      <th>phone</th>\n",
       "      <th>signup_date</th>\n",
       "      <th>surge_pct</th>\n",
       "      <th>trips_in_first_30_days</th>\n",
       "      <th>ultimate_black_user</th>\n",
       "      <th>weekday_pct</th>\n",
       "    </tr>\n",
       "  </thead>\n",
       "  <tbody>\n",
       "    <tr>\n",
       "      <th>90</th>\n",
       "      <td>6.28</td>\n",
       "      <td>NaN</td>\n",
       "      <td>5.0</td>\n",
       "      <td>1.00</td>\n",
       "      <td>Winterfell</td>\n",
       "      <td>2014-02-09</td>\n",
       "      <td>iPhone</td>\n",
       "      <td>2014-01-10</td>\n",
       "      <td>0.0</td>\n",
       "      <td>1</td>\n",
       "      <td>False</td>\n",
       "      <td>0.0</td>\n",
       "    </tr>\n",
       "    <tr>\n",
       "      <th>274</th>\n",
       "      <td>6.00</td>\n",
       "      <td>NaN</td>\n",
       "      <td>2.0</td>\n",
       "      <td>4.00</td>\n",
       "      <td>Astapor</td>\n",
       "      <td>2014-02-09</td>\n",
       "      <td>iPhone</td>\n",
       "      <td>2014-01-25</td>\n",
       "      <td>100.0</td>\n",
       "      <td>1</td>\n",
       "      <td>False</td>\n",
       "      <td>0.0</td>\n",
       "    </tr>\n",
       "    <tr>\n",
       "      <th>277</th>\n",
       "      <td>1.82</td>\n",
       "      <td>NaN</td>\n",
       "      <td>NaN</td>\n",
       "      <td>1.00</td>\n",
       "      <td>Winterfell</td>\n",
       "      <td>2014-01-26</td>\n",
       "      <td>iPhone</td>\n",
       "      <td>2014-01-25</td>\n",
       "      <td>0.0</td>\n",
       "      <td>1</td>\n",
       "      <td>False</td>\n",
       "      <td>0.0</td>\n",
       "    </tr>\n",
       "    <tr>\n",
       "      <th>536</th>\n",
       "      <td>1.41</td>\n",
       "      <td>NaN</td>\n",
       "      <td>5.0</td>\n",
       "      <td>1.00</td>\n",
       "      <td>Winterfell</td>\n",
       "      <td>2014-02-08</td>\n",
       "      <td>Android</td>\n",
       "      <td>2014-01-18</td>\n",
       "      <td>0.0</td>\n",
       "      <td>1</td>\n",
       "      <td>False</td>\n",
       "      <td>100.0</td>\n",
       "    </tr>\n",
       "    <tr>\n",
       "      <th>857</th>\n",
       "      <td>0.42</td>\n",
       "      <td>NaN</td>\n",
       "      <td>4.0</td>\n",
       "      <td>1.00</td>\n",
       "      <td>Winterfell</td>\n",
       "      <td>2014-03-16</td>\n",
       "      <td>iPhone</td>\n",
       "      <td>2014-01-11</td>\n",
       "      <td>0.0</td>\n",
       "      <td>0</td>\n",
       "      <td>False</td>\n",
       "      <td>0.0</td>\n",
       "    </tr>\n",
       "    <tr>\n",
       "      <th>1021</th>\n",
       "      <td>2.33</td>\n",
       "      <td>NaN</td>\n",
       "      <td>NaN</td>\n",
       "      <td>1.75</td>\n",
       "      <td>King's Landing</td>\n",
       "      <td>2014-06-13</td>\n",
       "      <td>iPhone</td>\n",
       "      <td>2014-01-23</td>\n",
       "      <td>100.0</td>\n",
       "      <td>0</td>\n",
       "      <td>True</td>\n",
       "      <td>100.0</td>\n",
       "    </tr>\n",
       "    <tr>\n",
       "      <th>1073</th>\n",
       "      <td>9.21</td>\n",
       "      <td>NaN</td>\n",
       "      <td>5.0</td>\n",
       "      <td>1.00</td>\n",
       "      <td>King's Landing</td>\n",
       "      <td>2014-04-27</td>\n",
       "      <td>Android</td>\n",
       "      <td>2014-01-19</td>\n",
       "      <td>0.0</td>\n",
       "      <td>0</td>\n",
       "      <td>False</td>\n",
       "      <td>0.0</td>\n",
       "    </tr>\n",
       "    <tr>\n",
       "      <th>1164</th>\n",
       "      <td>2.57</td>\n",
       "      <td>NaN</td>\n",
       "      <td>2.0</td>\n",
       "      <td>1.00</td>\n",
       "      <td>Winterfell</td>\n",
       "      <td>2014-01-25</td>\n",
       "      <td>Android</td>\n",
       "      <td>2014-01-24</td>\n",
       "      <td>0.0</td>\n",
       "      <td>1</td>\n",
       "      <td>True</td>\n",
       "      <td>100.0</td>\n",
       "    </tr>\n",
       "    <tr>\n",
       "      <th>1181</th>\n",
       "      <td>24.91</td>\n",
       "      <td>NaN</td>\n",
       "      <td>3.0</td>\n",
       "      <td>1.00</td>\n",
       "      <td>Winterfell</td>\n",
       "      <td>2014-01-25</td>\n",
       "      <td>Android</td>\n",
       "      <td>2014-01-25</td>\n",
       "      <td>0.0</td>\n",
       "      <td>1</td>\n",
       "      <td>False</td>\n",
       "      <td>0.0</td>\n",
       "    </tr>\n",
       "    <tr>\n",
       "      <th>1205</th>\n",
       "      <td>8.94</td>\n",
       "      <td>NaN</td>\n",
       "      <td>NaN</td>\n",
       "      <td>1.00</td>\n",
       "      <td>Winterfell</td>\n",
       "      <td>2014-02-22</td>\n",
       "      <td>Android</td>\n",
       "      <td>2014-01-18</td>\n",
       "      <td>0.0</td>\n",
       "      <td>0</td>\n",
       "      <td>False</td>\n",
       "      <td>100.0</td>\n",
       "    </tr>\n",
       "  </tbody>\n",
       "</table>\n",
       "</div>"
      ],
      "text/plain": [
       "      avg_dist  avg_rating_by_driver  avg_rating_of_driver  avg_surge  \\\n",
       "90        6.28                   NaN                   5.0       1.00   \n",
       "274       6.00                   NaN                   2.0       4.00   \n",
       "277       1.82                   NaN                   NaN       1.00   \n",
       "536       1.41                   NaN                   5.0       1.00   \n",
       "857       0.42                   NaN                   4.0       1.00   \n",
       "1021      2.33                   NaN                   NaN       1.75   \n",
       "1073      9.21                   NaN                   5.0       1.00   \n",
       "1164      2.57                   NaN                   2.0       1.00   \n",
       "1181     24.91                   NaN                   3.0       1.00   \n",
       "1205      8.94                   NaN                   NaN       1.00   \n",
       "\n",
       "                city last_trip_date    phone signup_date  surge_pct  \\\n",
       "90        Winterfell     2014-02-09   iPhone  2014-01-10        0.0   \n",
       "274          Astapor     2014-02-09   iPhone  2014-01-25      100.0   \n",
       "277       Winterfell     2014-01-26   iPhone  2014-01-25        0.0   \n",
       "536       Winterfell     2014-02-08  Android  2014-01-18        0.0   \n",
       "857       Winterfell     2014-03-16   iPhone  2014-01-11        0.0   \n",
       "1021  King's Landing     2014-06-13   iPhone  2014-01-23      100.0   \n",
       "1073  King's Landing     2014-04-27  Android  2014-01-19        0.0   \n",
       "1164      Winterfell     2014-01-25  Android  2014-01-24        0.0   \n",
       "1181      Winterfell     2014-01-25  Android  2014-01-25        0.0   \n",
       "1205      Winterfell     2014-02-22  Android  2014-01-18        0.0   \n",
       "\n",
       "      trips_in_first_30_days  ultimate_black_user  weekday_pct  \n",
       "90                         1                False          0.0  \n",
       "274                        1                False          0.0  \n",
       "277                        1                False          0.0  \n",
       "536                        1                False        100.0  \n",
       "857                        0                False          0.0  \n",
       "1021                       0                 True        100.0  \n",
       "1073                       0                False          0.0  \n",
       "1164                       1                 True        100.0  \n",
       "1181                       1                False          0.0  \n",
       "1205                       0                False        100.0  "
      ]
     },
     "execution_count": 30,
     "metadata": {},
     "output_type": "execute_result"
    }
   ],
   "source": [
    "# Take a look at the null values in avg_rating_by_driver\n",
    "challenge_df[challenge_df['avg_rating_by_driver'].isnull()].head(10)"
   ]
  },
  {
   "cell_type": "code",
   "execution_count": 31,
   "metadata": {},
   "outputs": [
    {
     "data": {
      "text/html": [
       "<div>\n",
       "<style scoped>\n",
       "    .dataframe tbody tr th:only-of-type {\n",
       "        vertical-align: middle;\n",
       "    }\n",
       "\n",
       "    .dataframe tbody tr th {\n",
       "        vertical-align: top;\n",
       "    }\n",
       "\n",
       "    .dataframe thead th {\n",
       "        text-align: right;\n",
       "    }\n",
       "</style>\n",
       "<table border=\"1\" class=\"dataframe\">\n",
       "  <thead>\n",
       "    <tr style=\"text-align: right;\">\n",
       "      <th></th>\n",
       "      <th>avg_dist</th>\n",
       "      <th>avg_rating_by_driver</th>\n",
       "      <th>avg_rating_of_driver</th>\n",
       "      <th>avg_surge</th>\n",
       "      <th>city</th>\n",
       "      <th>last_trip_date</th>\n",
       "      <th>phone</th>\n",
       "      <th>signup_date</th>\n",
       "      <th>surge_pct</th>\n",
       "      <th>trips_in_first_30_days</th>\n",
       "      <th>ultimate_black_user</th>\n",
       "      <th>weekday_pct</th>\n",
       "    </tr>\n",
       "  </thead>\n",
       "  <tbody>\n",
       "    <tr>\n",
       "      <th>6</th>\n",
       "      <td>3.95</td>\n",
       "      <td>4.0</td>\n",
       "      <td>NaN</td>\n",
       "      <td>1.0</td>\n",
       "      <td>Astapor</td>\n",
       "      <td>2014-01-25</td>\n",
       "      <td>Android</td>\n",
       "      <td>2014-01-24</td>\n",
       "      <td>0.0</td>\n",
       "      <td>1</td>\n",
       "      <td>False</td>\n",
       "      <td>100.0</td>\n",
       "    </tr>\n",
       "    <tr>\n",
       "      <th>9</th>\n",
       "      <td>2.37</td>\n",
       "      <td>5.0</td>\n",
       "      <td>NaN</td>\n",
       "      <td>1.0</td>\n",
       "      <td>Winterfell</td>\n",
       "      <td>2014-01-05</td>\n",
       "      <td>Android</td>\n",
       "      <td>2014-01-03</td>\n",
       "      <td>0.0</td>\n",
       "      <td>1</td>\n",
       "      <td>False</td>\n",
       "      <td>0.0</td>\n",
       "    </tr>\n",
       "    <tr>\n",
       "      <th>12</th>\n",
       "      <td>20.29</td>\n",
       "      <td>5.0</td>\n",
       "      <td>NaN</td>\n",
       "      <td>1.0</td>\n",
       "      <td>Winterfell</td>\n",
       "      <td>2014-03-12</td>\n",
       "      <td>iPhone</td>\n",
       "      <td>2014-01-15</td>\n",
       "      <td>0.0</td>\n",
       "      <td>1</td>\n",
       "      <td>False</td>\n",
       "      <td>100.0</td>\n",
       "    </tr>\n",
       "    <tr>\n",
       "      <th>14</th>\n",
       "      <td>26.01</td>\n",
       "      <td>5.0</td>\n",
       "      <td>NaN</td>\n",
       "      <td>1.0</td>\n",
       "      <td>Astapor</td>\n",
       "      <td>2014-01-28</td>\n",
       "      <td>Android</td>\n",
       "      <td>2014-01-27</td>\n",
       "      <td>0.0</td>\n",
       "      <td>1</td>\n",
       "      <td>False</td>\n",
       "      <td>100.0</td>\n",
       "    </tr>\n",
       "    <tr>\n",
       "      <th>15</th>\n",
       "      <td>13.20</td>\n",
       "      <td>5.0</td>\n",
       "      <td>NaN</td>\n",
       "      <td>1.0</td>\n",
       "      <td>Winterfell</td>\n",
       "      <td>2014-01-16</td>\n",
       "      <td>Android</td>\n",
       "      <td>2014-01-15</td>\n",
       "      <td>0.0</td>\n",
       "      <td>1</td>\n",
       "      <td>True</td>\n",
       "      <td>100.0</td>\n",
       "    </tr>\n",
       "    <tr>\n",
       "      <th>20</th>\n",
       "      <td>2.53</td>\n",
       "      <td>3.0</td>\n",
       "      <td>NaN</td>\n",
       "      <td>1.0</td>\n",
       "      <td>Winterfell</td>\n",
       "      <td>2014-03-16</td>\n",
       "      <td>Android</td>\n",
       "      <td>2014-01-31</td>\n",
       "      <td>0.0</td>\n",
       "      <td>1</td>\n",
       "      <td>False</td>\n",
       "      <td>50.0</td>\n",
       "    </tr>\n",
       "    <tr>\n",
       "      <th>21</th>\n",
       "      <td>3.31</td>\n",
       "      <td>5.0</td>\n",
       "      <td>NaN</td>\n",
       "      <td>1.0</td>\n",
       "      <td>Astapor</td>\n",
       "      <td>2014-04-29</td>\n",
       "      <td>iPhone</td>\n",
       "      <td>2014-01-09</td>\n",
       "      <td>0.0</td>\n",
       "      <td>1</td>\n",
       "      <td>False</td>\n",
       "      <td>100.0</td>\n",
       "    </tr>\n",
       "    <tr>\n",
       "      <th>22</th>\n",
       "      <td>11.47</td>\n",
       "      <td>5.0</td>\n",
       "      <td>NaN</td>\n",
       "      <td>1.0</td>\n",
       "      <td>Winterfell</td>\n",
       "      <td>2014-05-02</td>\n",
       "      <td>iPhone</td>\n",
       "      <td>2014-01-24</td>\n",
       "      <td>0.0</td>\n",
       "      <td>0</td>\n",
       "      <td>False</td>\n",
       "      <td>100.0</td>\n",
       "    </tr>\n",
       "    <tr>\n",
       "      <th>25</th>\n",
       "      <td>14.48</td>\n",
       "      <td>5.0</td>\n",
       "      <td>NaN</td>\n",
       "      <td>1.0</td>\n",
       "      <td>Winterfell</td>\n",
       "      <td>2014-01-03</td>\n",
       "      <td>iPhone</td>\n",
       "      <td>2014-01-02</td>\n",
       "      <td>0.0</td>\n",
       "      <td>1</td>\n",
       "      <td>True</td>\n",
       "      <td>100.0</td>\n",
       "    </tr>\n",
       "    <tr>\n",
       "      <th>28</th>\n",
       "      <td>5.97</td>\n",
       "      <td>5.0</td>\n",
       "      <td>NaN</td>\n",
       "      <td>1.5</td>\n",
       "      <td>Winterfell</td>\n",
       "      <td>2014-06-08</td>\n",
       "      <td>iPhone</td>\n",
       "      <td>2014-01-19</td>\n",
       "      <td>100.0</td>\n",
       "      <td>0</td>\n",
       "      <td>False</td>\n",
       "      <td>0.0</td>\n",
       "    </tr>\n",
       "  </tbody>\n",
       "</table>\n",
       "</div>"
      ],
      "text/plain": [
       "    avg_dist  avg_rating_by_driver  avg_rating_of_driver  avg_surge  \\\n",
       "6       3.95                   4.0                   NaN        1.0   \n",
       "9       2.37                   5.0                   NaN        1.0   \n",
       "12     20.29                   5.0                   NaN        1.0   \n",
       "14     26.01                   5.0                   NaN        1.0   \n",
       "15     13.20                   5.0                   NaN        1.0   \n",
       "20      2.53                   3.0                   NaN        1.0   \n",
       "21      3.31                   5.0                   NaN        1.0   \n",
       "22     11.47                   5.0                   NaN        1.0   \n",
       "25     14.48                   5.0                   NaN        1.0   \n",
       "28      5.97                   5.0                   NaN        1.5   \n",
       "\n",
       "          city last_trip_date    phone signup_date  surge_pct  \\\n",
       "6      Astapor     2014-01-25  Android  2014-01-24        0.0   \n",
       "9   Winterfell     2014-01-05  Android  2014-01-03        0.0   \n",
       "12  Winterfell     2014-03-12   iPhone  2014-01-15        0.0   \n",
       "14     Astapor     2014-01-28  Android  2014-01-27        0.0   \n",
       "15  Winterfell     2014-01-16  Android  2014-01-15        0.0   \n",
       "20  Winterfell     2014-03-16  Android  2014-01-31        0.0   \n",
       "21     Astapor     2014-04-29   iPhone  2014-01-09        0.0   \n",
       "22  Winterfell     2014-05-02   iPhone  2014-01-24        0.0   \n",
       "25  Winterfell     2014-01-03   iPhone  2014-01-02        0.0   \n",
       "28  Winterfell     2014-06-08   iPhone  2014-01-19      100.0   \n",
       "\n",
       "    trips_in_first_30_days  ultimate_black_user  weekday_pct  \n",
       "6                        1                False        100.0  \n",
       "9                        1                False          0.0  \n",
       "12                       1                False        100.0  \n",
       "14                       1                False        100.0  \n",
       "15                       1                 True        100.0  \n",
       "20                       1                False         50.0  \n",
       "21                       1                False        100.0  \n",
       "22                       0                False        100.0  \n",
       "25                       1                 True        100.0  \n",
       "28                       0                False          0.0  "
      ]
     },
     "execution_count": 31,
     "metadata": {},
     "output_type": "execute_result"
    }
   ],
   "source": [
    "# Take a look at the null values in avg_rating_of_driver\n",
    "challenge_df[challenge_df['avg_rating_of_driver'].isnull()].head(10)"
   ]
  },
  {
   "cell_type": "code",
   "execution_count": 32,
   "metadata": {
    "scrolled": true
   },
   "outputs": [
    {
     "data": {
      "text/html": [
       "<div>\n",
       "<style scoped>\n",
       "    .dataframe tbody tr th:only-of-type {\n",
       "        vertical-align: middle;\n",
       "    }\n",
       "\n",
       "    .dataframe tbody tr th {\n",
       "        vertical-align: top;\n",
       "    }\n",
       "\n",
       "    .dataframe thead th {\n",
       "        text-align: right;\n",
       "    }\n",
       "</style>\n",
       "<table border=\"1\" class=\"dataframe\">\n",
       "  <thead>\n",
       "    <tr style=\"text-align: right;\">\n",
       "      <th></th>\n",
       "      <th>avg_dist</th>\n",
       "      <th>avg_rating_by_driver</th>\n",
       "      <th>avg_rating_of_driver</th>\n",
       "      <th>avg_surge</th>\n",
       "      <th>city</th>\n",
       "      <th>last_trip_date</th>\n",
       "      <th>phone</th>\n",
       "      <th>signup_date</th>\n",
       "      <th>surge_pct</th>\n",
       "      <th>trips_in_first_30_days</th>\n",
       "      <th>ultimate_black_user</th>\n",
       "      <th>weekday_pct</th>\n",
       "    </tr>\n",
       "  </thead>\n",
       "  <tbody>\n",
       "    <tr>\n",
       "      <th>134</th>\n",
       "      <td>2.88</td>\n",
       "      <td>5.0</td>\n",
       "      <td>5.0</td>\n",
       "      <td>1.00</td>\n",
       "      <td>King's Landing</td>\n",
       "      <td>2014-06-11</td>\n",
       "      <td>None</td>\n",
       "      <td>2014-01-10</td>\n",
       "      <td>0.0</td>\n",
       "      <td>0</td>\n",
       "      <td>False</td>\n",
       "      <td>100.0</td>\n",
       "    </tr>\n",
       "    <tr>\n",
       "      <th>176</th>\n",
       "      <td>20.32</td>\n",
       "      <td>5.0</td>\n",
       "      <td>5.0</td>\n",
       "      <td>1.00</td>\n",
       "      <td>Astapor</td>\n",
       "      <td>2014-03-18</td>\n",
       "      <td>None</td>\n",
       "      <td>2014-01-28</td>\n",
       "      <td>0.0</td>\n",
       "      <td>0</td>\n",
       "      <td>False</td>\n",
       "      <td>100.0</td>\n",
       "    </tr>\n",
       "    <tr>\n",
       "      <th>320</th>\n",
       "      <td>31.01</td>\n",
       "      <td>5.0</td>\n",
       "      <td>5.0</td>\n",
       "      <td>1.00</td>\n",
       "      <td>Astapor</td>\n",
       "      <td>2014-01-09</td>\n",
       "      <td>None</td>\n",
       "      <td>2014-01-08</td>\n",
       "      <td>0.0</td>\n",
       "      <td>1</td>\n",
       "      <td>False</td>\n",
       "      <td>100.0</td>\n",
       "    </tr>\n",
       "    <tr>\n",
       "      <th>349</th>\n",
       "      <td>6.03</td>\n",
       "      <td>5.0</td>\n",
       "      <td>3.3</td>\n",
       "      <td>1.00</td>\n",
       "      <td>Winterfell</td>\n",
       "      <td>2014-06-22</td>\n",
       "      <td>None</td>\n",
       "      <td>2014-01-06</td>\n",
       "      <td>0.0</td>\n",
       "      <td>1</td>\n",
       "      <td>True</td>\n",
       "      <td>33.3</td>\n",
       "    </tr>\n",
       "    <tr>\n",
       "      <th>389</th>\n",
       "      <td>3.08</td>\n",
       "      <td>4.8</td>\n",
       "      <td>4.9</td>\n",
       "      <td>1.02</td>\n",
       "      <td>King's Landing</td>\n",
       "      <td>2014-07-01</td>\n",
       "      <td>None</td>\n",
       "      <td>2014-01-26</td>\n",
       "      <td>3.0</td>\n",
       "      <td>5</td>\n",
       "      <td>False</td>\n",
       "      <td>66.7</td>\n",
       "    </tr>\n",
       "  </tbody>\n",
       "</table>\n",
       "</div>"
      ],
      "text/plain": [
       "     avg_dist  avg_rating_by_driver  avg_rating_of_driver  avg_surge  \\\n",
       "134      2.88                   5.0                   5.0       1.00   \n",
       "176     20.32                   5.0                   5.0       1.00   \n",
       "320     31.01                   5.0                   5.0       1.00   \n",
       "349      6.03                   5.0                   3.3       1.00   \n",
       "389      3.08                   4.8                   4.9       1.02   \n",
       "\n",
       "               city last_trip_date phone signup_date  surge_pct  \\\n",
       "134  King's Landing     2014-06-11  None  2014-01-10        0.0   \n",
       "176         Astapor     2014-03-18  None  2014-01-28        0.0   \n",
       "320         Astapor     2014-01-09  None  2014-01-08        0.0   \n",
       "349      Winterfell     2014-06-22  None  2014-01-06        0.0   \n",
       "389  King's Landing     2014-07-01  None  2014-01-26        3.0   \n",
       "\n",
       "     trips_in_first_30_days  ultimate_black_user  weekday_pct  \n",
       "134                       0                False        100.0  \n",
       "176                       0                False        100.0  \n",
       "320                       1                False        100.0  \n",
       "349                       1                 True         33.3  \n",
       "389                       5                False         66.7  "
      ]
     },
     "execution_count": 32,
     "metadata": {},
     "output_type": "execute_result"
    }
   ],
   "source": [
    "# Take a look at the null values in phone\n",
    "challenge_df[challenge_df['phone'].isnull()].head()"
   ]
  },
  {
   "cell_type": "code",
   "execution_count": 33,
   "metadata": {},
   "outputs": [
    {
     "data": {
      "text/plain": [
       "array(['iPhone', 'Android', None], dtype=object)"
      ]
     },
     "execution_count": 33,
     "metadata": {},
     "output_type": "execute_result"
    }
   ],
   "source": [
    "challenge_df['phone'].unique()"
   ]
  },
  {
   "cell_type": "markdown",
   "metadata": {},
   "source": [
    "For both numerical columns, there is nothing particularly odd about the rest of the entry. As a result, I think null values would represent that no rating was given. Since both columns are continuous variables, it would be incorrect to give them 0's. As a result, I think it would be best to fill the values with the median.\n",
    "\n",
    "For the phone column, the other entries are iPhone and Android. I believe the null value in this column represents the use of other mobile operating systems. In this situation, I believe it is appropriate the fill the null value with \"Other\" to indicate that they are not using either operating systems."
   ]
  },
  {
   "cell_type": "code",
   "execution_count": 34,
   "metadata": {},
   "outputs": [],
   "source": [
    "# Create a copy of the challenge data\n",
    "cleaned_challenge = challenge_df.copy()\n",
    "\n",
    "# Fill the avg_rating_by_driver column with the median value\n",
    "cleaned_challenge['avg_rating_by_driver'].fillna(cleaned_challenge['avg_rating_by_driver'].median(), inplace=True)\n",
    "\n",
    "# Fill the avg_rating_of_driver column with the median value\n",
    "cleaned_challenge['avg_rating_of_driver'].fillna(cleaned_challenge['avg_rating_of_driver'].median(), inplace=True)\n",
    "\n",
    "# Fill the phone column with \"Other\"\n",
    "cleaned_challenge['phone'].fillna('Other', inplace=True)"
   ]
  },
  {
   "cell_type": "markdown",
   "metadata": {},
   "source": [
    "Let's check out the potential outliers in avg_dist, surge_pct, trips_in_first_30_days."
   ]
  },
  {
   "cell_type": "code",
   "execution_count": 35,
   "metadata": {},
   "outputs": [
    {
     "data": {
      "text/plain": [
       "<matplotlib.axes._subplots.AxesSubplot at 0x17bf78282b0>"
      ]
     },
     "execution_count": 35,
     "metadata": {},
     "output_type": "execute_result"
    },
    {
     "data": {
      "image/png": "[encoded data removed]",
      "text/plain": [
       "<matplotlib.figure.Figure at 0x17bf759fd68>"
      ]
     },
     "metadata": {},
     "output_type": "display_data"
    }
   ],
   "source": [
    "# Create a list for the columns with outliers\n",
    "OUTLIERS = ['avg_dist', 'surge_pct', 'trips_in_first_30_days']\n",
    "\n",
    "# Plot boxplots of the 3 columns\n",
    "sns.boxplot(x=\"variable\", y=\"value\", data=pd.melt(cleaned_challenge[OUTLIERS]))"
   ]
  },
  {
   "cell_type": "markdown",
   "metadata": {},
   "source": [
    "From the boxplot, there are quite a couple of outliers (anything outside the whiskers). However, because they are so frequent, I don't want to transform them carelessly. I'll limit by study to the extremeties in avg_dist and trips_in_first_30_days."
   ]
  },
  {
   "cell_type": "code",
   "execution_count": 36,
   "metadata": {},
   "outputs": [
    {
     "data": {
      "text/html": [
       "<div>\n",
       "<style scoped>\n",
       "    .dataframe tbody tr th:only-of-type {\n",
       "        vertical-align: middle;\n",
       "    }\n",
       "\n",
       "    .dataframe tbody tr th {\n",
       "        vertical-align: top;\n",
       "    }\n",
       "\n",
       "    .dataframe thead th {\n",
       "        text-align: right;\n",
       "    }\n",
       "</style>\n",
       "<table border=\"1\" class=\"dataframe\">\n",
       "  <thead>\n",
       "    <tr style=\"text-align: right;\">\n",
       "      <th></th>\n",
       "      <th>avg_dist</th>\n",
       "      <th>avg_rating_by_driver</th>\n",
       "      <th>avg_rating_of_driver</th>\n",
       "      <th>avg_surge</th>\n",
       "      <th>city</th>\n",
       "      <th>last_trip_date</th>\n",
       "      <th>phone</th>\n",
       "      <th>signup_date</th>\n",
       "      <th>surge_pct</th>\n",
       "      <th>trips_in_first_30_days</th>\n",
       "      <th>ultimate_black_user</th>\n",
       "      <th>weekday_pct</th>\n",
       "    </tr>\n",
       "  </thead>\n",
       "  <tbody>\n",
       "    <tr>\n",
       "      <th>20701</th>\n",
       "      <td>160.96</td>\n",
       "      <td>5.0</td>\n",
       "      <td>4.9</td>\n",
       "      <td>1.0</td>\n",
       "      <td>Astapor</td>\n",
       "      <td>2014-06-26</td>\n",
       "      <td>Android</td>\n",
       "      <td>2014-01-25</td>\n",
       "      <td>0.0</td>\n",
       "      <td>0</td>\n",
       "      <td>False</td>\n",
       "      <td>100.0</td>\n",
       "    </tr>\n",
       "    <tr>\n",
       "      <th>534</th>\n",
       "      <td>129.89</td>\n",
       "      <td>5.0</td>\n",
       "      <td>4.9</td>\n",
       "      <td>1.0</td>\n",
       "      <td>King's Landing</td>\n",
       "      <td>2014-03-09</td>\n",
       "      <td>Other</td>\n",
       "      <td>2014-01-04</td>\n",
       "      <td>0.0</td>\n",
       "      <td>0</td>\n",
       "      <td>False</td>\n",
       "      <td>0.0</td>\n",
       "    </tr>\n",
       "    <tr>\n",
       "      <th>1302</th>\n",
       "      <td>79.69</td>\n",
       "      <td>5.0</td>\n",
       "      <td>5.0</td>\n",
       "      <td>1.0</td>\n",
       "      <td>Winterfell</td>\n",
       "      <td>2014-01-30</td>\n",
       "      <td>iPhone</td>\n",
       "      <td>2014-01-30</td>\n",
       "      <td>0.0</td>\n",
       "      <td>1</td>\n",
       "      <td>False</td>\n",
       "      <td>100.0</td>\n",
       "    </tr>\n",
       "    <tr>\n",
       "      <th>22290</th>\n",
       "      <td>79.34</td>\n",
       "      <td>5.0</td>\n",
       "      <td>5.0</td>\n",
       "      <td>1.0</td>\n",
       "      <td>Astapor</td>\n",
       "      <td>2014-06-26</td>\n",
       "      <td>iPhone</td>\n",
       "      <td>2014-01-12</td>\n",
       "      <td>0.0</td>\n",
       "      <td>0</td>\n",
       "      <td>True</td>\n",
       "      <td>100.0</td>\n",
       "    </tr>\n",
       "    <tr>\n",
       "      <th>47595</th>\n",
       "      <td>77.13</td>\n",
       "      <td>5.0</td>\n",
       "      <td>5.0</td>\n",
       "      <td>1.0</td>\n",
       "      <td>King's Landing</td>\n",
       "      <td>2014-06-09</td>\n",
       "      <td>iPhone</td>\n",
       "      <td>2014-01-25</td>\n",
       "      <td>0.0</td>\n",
       "      <td>0</td>\n",
       "      <td>True</td>\n",
       "      <td>0.0</td>\n",
       "    </tr>\n",
       "  </tbody>\n",
       "</table>\n",
       "</div>"
      ],
      "text/plain": [
       "       avg_dist  avg_rating_by_driver  avg_rating_of_driver  avg_surge  \\\n",
       "20701    160.96                   5.0                   4.9        1.0   \n",
       "534      129.89                   5.0                   4.9        1.0   \n",
       "1302      79.69                   5.0                   5.0        1.0   \n",
       "22290     79.34                   5.0                   5.0        1.0   \n",
       "47595     77.13                   5.0                   5.0        1.0   \n",
       "\n",
       "                 city last_trip_date    phone signup_date  surge_pct  \\\n",
       "20701         Astapor     2014-06-26  Android  2014-01-25        0.0   \n",
       "534    King's Landing     2014-03-09    Other  2014-01-04        0.0   \n",
       "1302       Winterfell     2014-01-30   iPhone  2014-01-30        0.0   \n",
       "22290         Astapor     2014-06-26   iPhone  2014-01-12        0.0   \n",
       "47595  King's Landing     2014-06-09   iPhone  2014-01-25        0.0   \n",
       "\n",
       "       trips_in_first_30_days  ultimate_black_user  weekday_pct  \n",
       "20701                       0                False        100.0  \n",
       "534                         0                False          0.0  \n",
       "1302                        1                False        100.0  \n",
       "22290                       0                 True        100.0  \n",
       "47595                       0                 True          0.0  "
      ]
     },
     "execution_count": 36,
     "metadata": {},
     "output_type": "execute_result"
    }
   ],
   "source": [
    "# Let's observe the outliers in avg_dist\n",
    "cleaned_challenge.sort_values('avg_dist', ascending=False).head()"
   ]
  },
  {
   "cell_type": "code",
   "execution_count": 37,
   "metadata": {},
   "outputs": [
    {
     "data": {
      "text/html": [
       "<div>\n",
       "<style scoped>\n",
       "    .dataframe tbody tr th:only-of-type {\n",
       "        vertical-align: middle;\n",
       "    }\n",
       "\n",
       "    .dataframe tbody tr th {\n",
       "        vertical-align: top;\n",
       "    }\n",
       "\n",
       "    .dataframe thead th {\n",
       "        text-align: right;\n",
       "    }\n",
       "</style>\n",
       "<table border=\"1\" class=\"dataframe\">\n",
       "  <thead>\n",
       "    <tr style=\"text-align: right;\">\n",
       "      <th></th>\n",
       "      <th>avg_dist</th>\n",
       "      <th>avg_rating_by_driver</th>\n",
       "      <th>avg_rating_of_driver</th>\n",
       "      <th>avg_surge</th>\n",
       "      <th>city</th>\n",
       "      <th>last_trip_date</th>\n",
       "      <th>phone</th>\n",
       "      <th>signup_date</th>\n",
       "      <th>surge_pct</th>\n",
       "      <th>trips_in_first_30_days</th>\n",
       "      <th>ultimate_black_user</th>\n",
       "      <th>weekday_pct</th>\n",
       "    </tr>\n",
       "  </thead>\n",
       "  <tbody>\n",
       "    <tr>\n",
       "      <th>18514</th>\n",
       "      <td>2.02</td>\n",
       "      <td>4.8</td>\n",
       "      <td>5.0</td>\n",
       "      <td>1.12</td>\n",
       "      <td>King's Landing</td>\n",
       "      <td>2014-06-30</td>\n",
       "      <td>iPhone</td>\n",
       "      <td>2014-01-02</td>\n",
       "      <td>14.4</td>\n",
       "      <td>125</td>\n",
       "      <td>True</td>\n",
       "      <td>72.0</td>\n",
       "    </tr>\n",
       "    <tr>\n",
       "      <th>99</th>\n",
       "      <td>2.86</td>\n",
       "      <td>4.9</td>\n",
       "      <td>4.9</td>\n",
       "      <td>1.00</td>\n",
       "      <td>Astapor</td>\n",
       "      <td>2014-03-05</td>\n",
       "      <td>Android</td>\n",
       "      <td>2014-01-27</td>\n",
       "      <td>0.0</td>\n",
       "      <td>73</td>\n",
       "      <td>True</td>\n",
       "      <td>89.7</td>\n",
       "    </tr>\n",
       "    <tr>\n",
       "      <th>3030</th>\n",
       "      <td>2.32</td>\n",
       "      <td>4.8</td>\n",
       "      <td>4.9</td>\n",
       "      <td>1.06</td>\n",
       "      <td>Winterfell</td>\n",
       "      <td>2014-06-28</td>\n",
       "      <td>iPhone</td>\n",
       "      <td>2014-01-06</td>\n",
       "      <td>2.9</td>\n",
       "      <td>71</td>\n",
       "      <td>True</td>\n",
       "      <td>85.9</td>\n",
       "    </tr>\n",
       "    <tr>\n",
       "      <th>29070</th>\n",
       "      <td>1.45</td>\n",
       "      <td>4.6</td>\n",
       "      <td>4.0</td>\n",
       "      <td>1.07</td>\n",
       "      <td>Astapor</td>\n",
       "      <td>2014-06-29</td>\n",
       "      <td>iPhone</td>\n",
       "      <td>2014-01-10</td>\n",
       "      <td>7.3</td>\n",
       "      <td>63</td>\n",
       "      <td>True</td>\n",
       "      <td>83.3</td>\n",
       "    </tr>\n",
       "    <tr>\n",
       "      <th>48804</th>\n",
       "      <td>2.30</td>\n",
       "      <td>4.7</td>\n",
       "      <td>4.4</td>\n",
       "      <td>1.04</td>\n",
       "      <td>Astapor</td>\n",
       "      <td>2014-06-05</td>\n",
       "      <td>iPhone</td>\n",
       "      <td>2014-01-24</td>\n",
       "      <td>3.1</td>\n",
       "      <td>58</td>\n",
       "      <td>True</td>\n",
       "      <td>77.6</td>\n",
       "    </tr>\n",
       "  </tbody>\n",
       "</table>\n",
       "</div>"
      ],
      "text/plain": [
       "       avg_dist  avg_rating_by_driver  avg_rating_of_driver  avg_surge  \\\n",
       "18514      2.02                   4.8                   5.0       1.12   \n",
       "99         2.86                   4.9                   4.9       1.00   \n",
       "3030       2.32                   4.8                   4.9       1.06   \n",
       "29070      1.45                   4.6                   4.0       1.07   \n",
       "48804      2.30                   4.7                   4.4       1.04   \n",
       "\n",
       "                 city last_trip_date    phone signup_date  surge_pct  \\\n",
       "18514  King's Landing     2014-06-30   iPhone  2014-01-02       14.4   \n",
       "99            Astapor     2014-03-05  Android  2014-01-27        0.0   \n",
       "3030       Winterfell     2014-06-28   iPhone  2014-01-06        2.9   \n",
       "29070         Astapor     2014-06-29   iPhone  2014-01-10        7.3   \n",
       "48804         Astapor     2014-06-05   iPhone  2014-01-24        3.1   \n",
       "\n",
       "       trips_in_first_30_days  ultimate_black_user  weekday_pct  \n",
       "18514                     125                 True         72.0  \n",
       "99                         73                 True         89.7  \n",
       "3030                       71                 True         85.9  \n",
       "29070                      63                 True         83.3  \n",
       "48804                      58                 True         77.6  "
      ]
     },
     "execution_count": 37,
     "metadata": {},
     "output_type": "execute_result"
    }
   ],
   "source": [
    "# Let's observe the outliers in trips_in_first_30_days\n",
    "cleaned_challenge.sort_values('trips_in_first_30_days', ascending=False).head()"
   ]
  },
  {
   "cell_type": "markdown",
   "metadata": {},
   "source": [
    "For both of these columns, I will scale them down towards the rest of the group. \n",
    "\n",
    "avg_dist to 80\n",
    "\n",
    "trips_in_first_30_days to 74"
   ]
  },
  {
   "cell_type": "code",
   "execution_count": 38,
   "metadata": {},
   "outputs": [],
   "source": [
    "# Replace the extreme values in avg_dist with 80\n",
    "cleaned_challenge.loc[cleaned_challenge['avg_dist'] > 100, 'avg_dist'] = 80\n",
    "\n",
    "# Replace the extreme values in trips_in_first_30_days with 74\n",
    "cleaned_challenge.loc[cleaned_challenge['trips_in_first_30_days'] > 100, 'trips_in_first_30_days'] = 74"
   ]
  },
  {
   "cell_type": "code",
   "execution_count": 39,
   "metadata": {},
   "outputs": [
    {
     "data": {
      "text/plain": [
       "array([\"King's Landing\", 'Astapor', 'Winterfell'], dtype=object)"
      ]
     },
     "execution_count": 39,
     "metadata": {},
     "output_type": "execute_result"
    }
   ],
   "source": [
    "# Let's take a look at the unique values for city\n",
    "cleaned_challenge['city'].unique()"
   ]
  },
  {
   "cell_type": "code",
   "execution_count": 40,
   "metadata": {},
   "outputs": [],
   "source": [
    "# Split the dataframe into active users and inactive users\n",
    "\n",
    "# Define the active users\n",
    "active_users = cleaned_challenge[cleaned_challenge['trips_in_first_30_days'] > 0].copy()\n",
    "\n",
    "# Define the active users\n",
    "inactive_users = cleaned_challenge[cleaned_challenge['trips_in_first_30_days'] == 0].copy()"
   ]
  },
  {
   "cell_type": "markdown",
   "metadata": {},
   "source": [
    "Let's convert the two date columns to proper datetime objects."
   ]
  },
  {
   "cell_type": "code",
   "execution_count": 41,
   "metadata": {},
   "outputs": [],
   "source": [
    "# Convert the dtype of last_trip_date column to datetime\n",
    "cleaned_challenge['last_trip_date'] = pd.to_datetime(cleaned_challenge['last_trip_date'])\n",
    "\n",
    "# Convert the dtype of last_trip_date column to datetime\n",
    "cleaned_challenge['signup_date'] = pd.to_datetime(cleaned_challenge['signup_date'])"
   ]
  },
  {
   "cell_type": "code",
   "execution_count": 42,
   "metadata": {
    "scrolled": true
   },
   "outputs": [
    {
     "name": "stdout",
     "output_type": "stream",
     "text": [
      "Active:    34610\n",
      "Inactive:  15390\n"
     ]
    }
   ],
   "source": [
    "print ('Active:   ', len(active_users))\n",
    "print ('Inactive: ', len(inactive_users))"
   ]
  },
  {
   "cell_type": "markdown",
   "metadata": {},
   "source": [
    "Over the last couple of months, it seems approximately 30% of the users have become inactive.\n",
    "\n",
    "Let's see if there are any visually differences between these two groups."
   ]
  },
  {
   "cell_type": "code",
   "execution_count": 43,
   "metadata": {
    "scrolled": true
   },
   "outputs": [
    {
     "data": {
      "image/png": "[encoded data removed]",
      "text/plain": [
       "<matplotlib.figure.Figure at 0x17bf759fc50>"
      ]
     },
     "metadata": {},
     "output_type": "display_data"
    }
   ],
   "source": [
    "# Define a list with all the numerical columns\n",
    "NUMERICAL = [col for col in cleaned_challenge.columns if cleaned_challenge[col].dtype == 'float64']\n",
    "\n",
    "# Create plots for the first 3 numerical columns\n",
    "fig, ax = plt.subplots(ncols=3, figsize=(16, 4))\n",
    "\n",
    "for i in range(3):\n",
    "    sns.distplot(active_users[NUMERICAL[i]], ax=ax[i], label='Active').legend()\n",
    "    sns.distplot(inactive_users[NUMERICAL[i]], ax=ax[i], label='Inactive').legend()"
   ]
  },
  {
   "cell_type": "code",
   "execution_count": 44,
   "metadata": {},
   "outputs": [
    {
     "data": {
      "image/png": "[encoded data removed]",
      "text/plain": [
       "<matplotlib.figure.Figure at 0x17bf7912860>"
      ]
     },
     "metadata": {},
     "output_type": "display_data"
    }
   ],
   "source": [
    "# Create plots for the next 3 numerical columns\n",
    "fig, ax = plt.subplots(ncols=3, figsize=(16, 4))\n",
    "\n",
    "for i in range(3):\n",
    "    sns.distplot(active_users[NUMERICAL[i+3]], ax=ax[i], label='Active').legend()\n",
    "    sns.distplot(inactive_users[NUMERICAL[i+3]], ax=ax[i], label='Inactive').legend()"
   ]
  },
  {
   "cell_type": "markdown",
   "metadata": {},
   "source": [
    "There doesn't seem to be any visual differences between the two groups. \n",
    "\n",
    "However, current active users appear to be more casual users (intermediate range for weekday_pct) than currently inactive users. This suggests that the active users use the Ultimate application on both weekdays and weekends. In both extremeties of this variable (0 usage on weekdays and 0 usage on weekends), the currently inactive users are more apparent.\n",
    "\n",
    "Let's try some two-sided t-test and bootstrapping.\n",
    "\n",
    "Hypothesis test for testing statistical difference between active and inactive users (p < 0.05):\n",
    "\n",
    "Null Hypothesis: There is no difference between the two groups\n",
    "\n",
    "Alternate Hypothesis: The two groups are statistically different."
   ]
  },
  {
   "cell_type": "code",
   "execution_count": 45,
   "metadata": {},
   "outputs": [
    {
     "name": "stdout",
     "output_type": "stream",
     "text": [
      "T-score for avg_dist: Ttest_indResult(statistic=-15.724791882507994, pvalue=1.3906705621186245e-55)\n",
      "T-score for avg_rating_by_driver: Ttest_indResult(statistic=-4.489643639133461, pvalue=7.150162715034273e-06)\n",
      "T-score for avg_rating_of_driver: Ttest_indResult(statistic=-12.399303029416846, pvalue=2.970601535329053e-35)\n",
      "T-score for avg_surge: Ttest_indResult(statistic=2.3094461301357625, pvalue=0.020922892160045396)\n",
      "T-score for surge_pct: Ttest_indResult(statistic=2.5144681086090093, pvalue=0.011924321064206714)\n",
      "T-score for weekday_pct: Ttest_indResult(statistic=-1.5009641436435157, pvalue=0.1333711507019858)\n"
     ]
    }
   ],
   "source": [
    "# Perform the t-test on ALL the numerical columns\n",
    "for col in NUMERICAL:\n",
    "    t_score=stats.ttest_ind(active_users[col], inactive_users[col])\n",
    "    print ('T-score for {}: {}'.format(col, t_score))"
   ]
  },
  {
   "cell_type": "code",
   "execution_count": 46,
   "metadata": {},
   "outputs": [
    {
     "name": "stdout",
     "output_type": "stream",
     "text": [
      "\n",
      "avg_dist:\n",
      "95% Confidence Interval for Active Users: [5.47505224 5.58300322]\n",
      "95% Confidence interval for Inactive Users: [6.29330954 6.48808665]\n",
      "\n",
      "avg_rating_by_driver:\n",
      "95% Confidence Interval for Active Users: [4.76844705 4.777487  ]\n",
      "95% Confidence interval for Inactive Users: [4.78502794 4.80072303]\n",
      "\n",
      "avg_rating_of_driver:\n",
      "95% Confidence Interval for Active Users: [4.62306234 4.63506862]\n",
      "95% Confidence interval for Inactive Users: [4.68899172 4.70651819]\n",
      "\n",
      "avg_surge:\n",
      "95% Confidence Interval for Active Users: [1.07401992 1.07869819]\n",
      "95% Confidence interval for Inactive Users: [1.06780021 1.07540583]\n",
      "\n",
      "surge_pct:\n",
      "95% Confidence Interval for Active Users: [8.7886842  9.18262142]\n",
      "95% Confidence interval for Inactive Users: [8.17783252 8.82562947]\n",
      "\n",
      "weekday_pct:\n",
      "95% Confidence Interval for Active Users: [60.43704796 61.13389107]\n",
      "95% Confidence interval for Inactive Users: [60.62632862 61.91016634]\n"
     ]
    }
   ],
   "source": [
    "for col in NUMERICAL:\n",
    "    \n",
    "    # Create 1000 instances in an empty array for the two groups\n",
    "    active_bootstrap = np.empty (1000)\n",
    "    inactive_bootstrap = np.empty (1000)\n",
    "    \n",
    "    # Store 1000 bootstrap samples in the empty array\n",
    "    for i in range(1000):\n",
    "        active_bootstrap[i] = np.mean(np.random.choice(active_users[col], len(active_users)))\n",
    "        inactive_bootstrap[i] = np.mean(np.random.choice(inactive_users[col], len(inactive_users)))\n",
    "        \n",
    "    # Define the confidence intervals\n",
    "    confidence_interval_active = np.percentile(active_bootstrap, [2.5, 97.5])\n",
    "    confidence_interval_inactive = np.percentile(inactive_bootstrap, [2.5, 97.5])\n",
    "    \n",
    "    # Print the results\n",
    "    print ('\\n{}:'.format(col))\n",
    "    print ('95% Confidence Interval for Active Users:', confidence_interval_active)\n",
    "    print ('95% Confidence interval for Inactive Users:', confidence_interval_inactive)"
   ]
  },
  {
   "cell_type": "markdown",
   "metadata": {},
   "source": [
    "According to the t-test and bootstrapping, there appears to be statistically significant  differences between the active and inactive users in all, but one numerical variable (weekday_pct)."
   ]
  },
  {
   "cell_type": "markdown",
   "metadata": {},
   "source": [
    "### EDA Conclusion:\n",
    "\n",
    "1. Of the provided dataset, approximately 30% of the users were inactive in the past month.\n",
    "2. Of the numerical columns, the active and inactive users have no significant difference in their usage during the week."
   ]
  },
  {
   "cell_type": "markdown",
   "metadata": {},
   "source": [
    "Let's move onto building the model.\n",
    "\n",
    "I'll quickly fit the data into a RandomForestClassifier to determine some feature importance.\n",
    "\n",
    "First I'll perform some preprocessing steps and place it into a pipeline. From there, I will add different machine learning algorithms and determine which ones performed the highest. Performance will be measured via roc_auc_score which is optimal for binary classifications."
   ]
  },
  {
   "cell_type": "code",
   "execution_count": 47,
   "metadata": {},
   "outputs": [
    {
     "name": "stdout",
     "output_type": "stream",
     "text": [
      "<class 'pandas.core.frame.DataFrame'>\n",
      "RangeIndex: 50000 entries, 0 to 49999\n",
      "Data columns (total 12 columns):\n",
      "avg_dist                  50000 non-null float64\n",
      "avg_rating_by_driver      50000 non-null float64\n",
      "avg_rating_of_driver      50000 non-null float64\n",
      "avg_surge                 50000 non-null float64\n",
      "city                      50000 non-null object\n",
      "last_trip_date            50000 non-null datetime64[ns]\n",
      "phone                     50000 non-null object\n",
      "signup_date               50000 non-null datetime64[ns]\n",
      "surge_pct                 50000 non-null float64\n",
      "trips_in_first_30_days    50000 non-null int64\n",
      "ultimate_black_user       50000 non-null bool\n",
      "weekday_pct               50000 non-null float64\n",
      "dtypes: bool(1), datetime64[ns](2), float64(6), int64(1), object(2)\n",
      "memory usage: 4.2+ MB\n"
     ]
    }
   ],
   "source": [
    "cleaned_challenge.info()"
   ]
  },
  {
   "cell_type": "markdown",
   "metadata": {},
   "source": [
    "Before I move on, let me create a target column. I will also remove the trips_in_first_30_days columns\n",
    "\n",
    "TARGET = {0: inactive, 1: active}\n",
    "\n",
    "Additionally, I will drop the last_trip_date since it relays the same information as the target column. I will extract additional features from the signup_date, namely week, month, and day of week."
   ]
  },
  {
   "cell_type": "code",
   "execution_count": 48,
   "metadata": {},
   "outputs": [],
   "source": [
    "# Create a copy of the cleaned_challenge\n",
    "model_challenge = cleaned_challenge.copy()"
   ]
  },
  {
   "cell_type": "code",
   "execution_count": 49,
   "metadata": {},
   "outputs": [],
   "source": [
    "# Create the target column\n",
    "model_challenge['TARGET'] = model_challenge['trips_in_first_30_days'].apply(lambda x: 1 if x > 0 else 0)\n",
    "\n",
    "# Create the start_week column\n",
    "model_challenge['start_week'] = model_challenge['signup_date'].dt.weekofyear\n",
    "\n",
    "# Create the start_month column\n",
    "model_challenge['start_month'] = model_challenge['signup_date'].dt.month\n",
    "\n",
    "# Create the start_weekday column\n",
    "model_challenge['start_weekday'] = model_challenge['signup_date'].dt.dayofweek\n",
    "\n",
    "# Drop the trips_in_first_30_days column\n",
    "model_challenge.drop(['trips_in_first_30_days', 'last_trip_date', 'signup_date'], axis=1, inplace=True)"
   ]
  },
  {
   "cell_type": "code",
   "execution_count": 50,
   "metadata": {},
   "outputs": [],
   "source": [
    "# Define the categorical columns\n",
    "CATEGORICAL = [col for col in model_challenge.columns if col not in NUMERICAL]\n",
    "\n",
    "# Remove the target column from the list\n",
    "CATEGORICAL.remove('TARGET')\n",
    "\n",
    "# Sanity check that all columns are in a list except target\n",
    "assert (len(CATEGORICAL) + len(NUMERICAL) == len(model_challenge.columns) - 1)"
   ]
  },
  {
   "cell_type": "code",
   "execution_count": 51,
   "metadata": {},
   "outputs": [],
   "source": [
    "# Split the data into X(variables) and y(target)\n",
    "X = model_challenge.drop('TARGET', axis=1)\n",
    "y = model_challenge['TARGET']"
   ]
  },
  {
   "cell_type": "code",
   "execution_count": 52,
   "metadata": {},
   "outputs": [],
   "source": [
    "# Fit the numerical data to the MinMaxScaler()\n",
    "NUMERICAL_X_train = StandardScaler().fit_transform(X[NUMERICAL])\n",
    "\n",
    "# Define the numerical dataframe\n",
    "NUMERICAL_df = pd.DataFrame(NUMERICAL_X_train, columns=NUMERICAL)"
   ]
  },
  {
   "cell_type": "code",
   "execution_count": 53,
   "metadata": {},
   "outputs": [],
   "source": [
    "# Define the categorical dataframe\n",
    "CATEGORICAL_df = X[CATEGORICAL]\n",
    "\n",
    "# Create dummy variables for the categorical variables\n",
    "for col in CATEGORICAL:\n",
    "    group_dummies = pd.get_dummies(CATEGORICAL_df[col]).rename(columns=lambda x: col + str(x))\n",
    "    CATEGORICAL_df = CATEGORICAL_df.join(group_dummies)\n",
    "    del CATEGORICAL_df[col]"
   ]
  },
  {
   "cell_type": "code",
   "execution_count": 54,
   "metadata": {},
   "outputs": [],
   "source": [
    "concat_X = pd.concat([NUMERICAL_df, CATEGORICAL_df], axis=1)"
   ]
  },
  {
   "cell_type": "code",
   "execution_count": 55,
   "metadata": {},
   "outputs": [],
   "source": [
    "# Fit the converted data to the RandomForestClassifier()\n",
    "rf = RandomForestClassifier().fit(concat_X, y)"
   ]
  },
  {
   "cell_type": "code",
   "execution_count": 56,
   "metadata": {},
   "outputs": [
    {
     "data": {
      "text/plain": [
       "<matplotlib.axes._subplots.AxesSubplot at 0x17bf5e74ac8>"
      ]
     },
     "execution_count": 56,
     "metadata": {},
     "output_type": "execute_result"
    },
    {
     "data": {
      "image/png": "[encoded data removed]",
      "text/plain": [
       "<matplotlib.figure.Figure at 0x17bf5ede6a0>"
      ]
     },
     "metadata": {},
     "output_type": "display_data"
    }
   ],
   "source": [
    "# Extract the feature importances and zip it with the columns into a dataframe\n",
    "importances = rf.feature_importances_\n",
    "features = pd.DataFrame({'feature': concat_X.columns, 'importance': importances})\n",
    "features.sort_values(by='importance', ascending=False, inplace=True)\n",
    "\n",
    "# Display a horizontal barplot with the feature importances\n",
    "plt.figure(figsize=(10,6))\n",
    "sns.barplot(x=features['importance'], y=features['feature'], color='blue', orient='h')"
   ]
  },
  {
   "cell_type": "markdown",
   "metadata": {},
   "source": [
    "#### Feature Importance Observations:\n",
    "1. avg_dist is the major predicting feature for active and inactive users. It appears that active users, on average, travel shorter distances.\n",
    "2. It appears that weekday_pct is also an important feature, but I'm unsure to which direction is best.\n",
    "3. surge_pct and avg_surge show suggest that currently active users will use the Ultimate application during peak hours."
   ]
  },
  {
   "cell_type": "code",
   "execution_count": 57,
   "metadata": {},
   "outputs": [],
   "source": [
    "# Split the data into training and test sets\n",
    "X_train, X_test, y_train, y_test = train_test_split(concat_X, y, test_size=0.2)"
   ]
  },
  {
   "cell_type": "markdown",
   "metadata": {},
   "source": [
    "Originally I was going to use FeatureUnion and FunctionTransformer to perform my preprocessing steps in a pipeline. However, I already completed them manually during the process of determing feature importance. As a result, I am going to use the resulting dataframe from that process to train multiple different models."
   ]
  },
  {
   "cell_type": "markdown",
   "metadata": {},
   "source": [
    "#### Logistic Regression"
   ]
  },
  {
   "cell_type": "code",
   "execution_count": 58,
   "metadata": {},
   "outputs": [
    {
     "data": {
      "text/plain": [
       "LogisticRegression(C=1.0, class_weight=None, dual=False, fit_intercept=True,\n",
       "          intercept_scaling=1, max_iter=100, multi_class='ovr', n_jobs=1,\n",
       "          penalty='l2', random_state=None, solver='liblinear', tol=0.0001,\n",
       "          verbose=0, warm_start=False)"
      ]
     },
     "execution_count": 58,
     "metadata": {},
     "output_type": "execute_result"
    }
   ],
   "source": [
    "# Create the Pipeline with LogisticRegression\n",
    "lr = LogisticRegression()\n",
    "\n",
    "# Fit the Pipeline with the training data\n",
    "lr.fit(X_train, y_train)"
   ]
  },
  {
   "cell_type": "code",
   "execution_count": 59,
   "metadata": {
    "scrolled": true
   },
   "outputs": [
    {
     "name": "stdout",
     "output_type": "stream",
     "text": [
      "0.5848806257985687\n"
     ]
    }
   ],
   "source": [
    "# Assign the predictions to variables\n",
    "predicted_train_values = lr.predict_proba(X_train)[:, -1]\n",
    "predicted_test_values = lr.predict_proba(X_test)[:, -1]\n",
    "\n",
    "# Print the scores\n",
    "print (roc_auc_score(y_test, predicted_test_values))"
   ]
  },
  {
   "cell_type": "code",
   "execution_count": 60,
   "metadata": {
    "scrolled": true
   },
   "outputs": [
    {
     "data": {
      "text/plain": [
       "<matplotlib.axes._subplots.AxesSubplot at 0x17bf73cce10>"
      ]
     },
     "execution_count": 60,
     "metadata": {},
     "output_type": "execute_result"
    },
    {
     "data": {
      "image/png": "[encoded data removed]",
      "text/plain": [
       "<matplotlib.figure.Figure at 0x17bf6bb13c8>"
      ]
     },
     "metadata": {},
     "output_type": "display_data"
    }
   ],
   "source": [
    "# Define the figure\n",
    "fig, ax = plt.subplots(ncols=2, figsize=(12,6))\n",
    "\n",
    "# Plot the training data\n",
    "sns.kdeplot(y_train, ax=ax[0], label='Original').set_title('Training Data')\n",
    "sns.kdeplot(predicted_train_values, ax=ax[0], label='Predicted')\n",
    "\n",
    "# Plot the test data\n",
    "sns.kdeplot(y_test, ax=ax[1], label='Original').set_title('Testing Data')\n",
    "sns.kdeplot(predicted_test_values, ax=ax[1], label='Predicted')"
   ]
  },
  {
   "cell_type": "markdown",
   "metadata": {},
   "source": [
    "#### Random Forest Classifier"
   ]
  },
  {
   "cell_type": "code",
   "execution_count": 61,
   "metadata": {},
   "outputs": [
    {
     "data": {
      "text/plain": [
       "RandomForestClassifier(bootstrap=True, class_weight=None, criterion='gini',\n",
       "            max_depth=None, max_features='auto', max_leaf_nodes=None,\n",
       "            min_impurity_decrease=0.0, min_impurity_split=None,\n",
       "            min_samples_leaf=1, min_samples_split=2,\n",
       "            min_weight_fraction_leaf=0.0, n_estimators=100, n_jobs=1,\n",
       "            oob_score=False, random_state=None, verbose=0,\n",
       "            warm_start=False)"
      ]
     },
     "execution_count": 61,
     "metadata": {},
     "output_type": "execute_result"
    }
   ],
   "source": [
    "# Create the Pipeline with LogisticRegression\n",
    "rf = RandomForestClassifier(n_estimators=100)\n",
    "\n",
    "# Fit the Pipeline with the training data\n",
    "rf.fit(X_train, y_train)"
   ]
  },
  {
   "cell_type": "code",
   "execution_count": 62,
   "metadata": {},
   "outputs": [
    {
     "name": "stdout",
     "output_type": "stream",
     "text": [
      "0.6553755821435978\n"
     ]
    }
   ],
   "source": [
    "# Assign the predictions to variables\n",
    "predicted_train_values = rf.predict_proba(X_train)[:, -1]\n",
    "predicted_test_values = rf.predict_proba(X_test)[:, -1]\n",
    "\n",
    "# Print the scores\n",
    "print (roc_auc_score(y_test, predicted_test_values))"
   ]
  },
  {
   "cell_type": "code",
   "execution_count": 63,
   "metadata": {},
   "outputs": [
    {
     "data": {
      "text/plain": [
       "<matplotlib.axes._subplots.AxesSubplot at 0x17bf94b66d8>"
      ]
     },
     "execution_count": 63,
     "metadata": {},
     "output_type": "execute_result"
    },
    {
     "data": {
      "image/png": "[encoded data removed]",
      "text/plain": [
       "<matplotlib.figure.Figure at 0x17bf7455860>"
      ]
     },
     "metadata": {},
     "output_type": "display_data"
    }
   ],
   "source": [
    "# Define the figure\n",
    "fig, ax = plt.subplots(ncols=2, figsize=(12,6))\n",
    "\n",
    "# Plot the training data\n",
    "sns.kdeplot(y_train, ax=ax[0], label='Original').set_title('Training Data')\n",
    "sns.kdeplot(predicted_train_values, ax=ax[0], label='Predicted')\n",
    "\n",
    "# Plot the test data\n",
    "sns.kdeplot(y_test, ax=ax[1], label='Original').set_title('Testing Data')\n",
    "sns.kdeplot(predicted_test_values, ax=ax[1], label='Predicted')"
   ]
  },
  {
   "cell_type": "markdown",
   "metadata": {},
   "source": [
    "#### XGBClassifier"
   ]
  },
  {
   "cell_type": "code",
   "execution_count": 64,
   "metadata": {},
   "outputs": [
    {
     "data": {
      "text/plain": [
       "XGBClassifier(base_score=0.5, booster='gbtree', colsample_bylevel=1,\n",
       "       colsample_bytree=1, gamma=0, learning_rate=0.1, max_delta_step=0,\n",
       "       max_depth=3, min_child_weight=1, missing=None, n_estimators=100,\n",
       "       n_jobs=1, nthread=None, objective='binary:logistic', random_state=0,\n",
       "       reg_alpha=0, reg_lambda=1, scale_pos_weight=1, seed=None,\n",
       "       silent=True, subsample=1)"
      ]
     },
     "execution_count": 64,
     "metadata": {},
     "output_type": "execute_result"
    }
   ],
   "source": [
    "# Create the Pipeline with LogisticRegression\n",
    "xgb = xgb.XGBClassifier()\n",
    "\n",
    "# Fit the Pipeline with the training data\n",
    "xgb.fit(X_train, y_train)"
   ]
  },
  {
   "cell_type": "code",
   "execution_count": 65,
   "metadata": {},
   "outputs": [
    {
     "name": "stdout",
     "output_type": "stream",
     "text": [
      "0.716313452963353\n"
     ]
    }
   ],
   "source": [
    "# Assign the predictions to variables\n",
    "predicted_train_values = xgb.predict_proba(X_train)[:, -1]\n",
    "predicted_test_values = xgb.predict_proba(X_test)[:, -1]\n",
    "\n",
    "# Print the scores\n",
    "print (roc_auc_score(y_test, predicted_test_values))"
   ]
  },
  {
   "cell_type": "code",
   "execution_count": 66,
   "metadata": {},
   "outputs": [
    {
     "data": {
      "text/plain": [
       "<matplotlib.axes._subplots.AxesSubplot at 0x17bf6c1d5c0>"
      ]
     },
     "execution_count": 66,
     "metadata": {},
     "output_type": "execute_result"
    },
    {
     "data": {
      "image/png": "[encoded data removed]",
      "text/plain": [
       "<matplotlib.figure.Figure at 0x17b8a4b6dd8>"
      ]
     },
     "metadata": {},
     "output_type": "display_data"
    }
   ],
   "source": [
    "# Define the figure\n",
    "fig, ax = plt.subplots(ncols=2, figsize=(12,6))\n",
    "\n",
    "# Plot the training data\n",
    "sns.kdeplot(y_train, ax=ax[0], label='Original').set_title('Training Data')\n",
    "sns.kdeplot(predicted_train_values, ax=ax[0], label='Predicted')\n",
    "\n",
    "# Plot the test data\n",
    "sns.kdeplot(y_test, ax=ax[1], label='Original').set_title('Testing Data')\n",
    "sns.kdeplot(predicted_test_values, ax=ax[1], label='Predicted')"
   ]
  },
  {
   "cell_type": "markdown",
   "metadata": {},
   "source": [
    "Without spending further time on hyperparameter tuning, I will address the rest of my approach. I would discontinue the use of LogisitcRegression because the algorithm appears to make very linear predictions. I would continue with both the RandomForestClassifier and XGBClassifier. Both algorithms use base decision tree models, but they use different tuning parameters. Since a model capable of making non-linear predictions addresses the problem better, I would be cautious of higher regularization strength.\n",
    "\n",
    "From the three attempted algorithms, XGBClassifier outperformed the rest by at least 0.5 in roc_auc_score.\n",
    "\n",
    "My main concern lies not with the model, but with the data. From the EDA and inferential statistics performed on the data, I found the differences between the active and inactive users to be very minute. It felt like there were many columns missing, such as average trips per week, average expenses, average surge expenses, number of months with usage, etc.\n",
    "\n",
    "I believe the main insights to take away from this model is the average distance traveled and percentage of trips during surge hours. It appears that currently active users travel shorter distances and are more likely to use the app during surge hours. An additional way to interpret this, is that currently inactive users usually only use the application when necessary to travel further distances and usually avoid using it during surge hours. \n",
    "\n",
    "To retain more active users, I believe Ultimate should reduce either reduce the surge hours or reduce the surge multiplier. Personally, I believe reducing the surge hours would have a stronger effect as it had a higher feature importance and users are often deterred by any form of price multiplier. Additionally, I would promote the use of Ultimate during the weekday via incentives."
   ]
  },
  {
   "cell_type": "code",
   "execution_count": null,
   "metadata": {},
   "outputs": [],
   "source": []
  }
 ],
 "metadata": {
  "kernelspec": {
   "display_name": "Python 3",
   "language": "python",
   "name": "python3"
  },
  "language_info": {
   "codemirror_mode": {
    "name": "ipython",
    "version": 3
   },
   "file_extension": ".py",
   "mimetype": "text/x-python",
   "name": "python",
   "nbconvert_exporter": "python",
   "pygments_lexer": "ipython3",
   "version": "3.6.4"
  }
 },
 "nbformat": 4,
 "nbformat_minor": 2
}
